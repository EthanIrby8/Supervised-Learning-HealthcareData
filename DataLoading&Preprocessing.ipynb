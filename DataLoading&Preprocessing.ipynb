{
 "cells": [
  {
   "cell_type": "code",
   "execution_count": 1,
   "metadata": {},
   "outputs": [],
   "source": [
    "import pandas as pd\n",
    "import numpy as np\n",
    "import matplotlib.pyplot as plt\n",
    "import seaborn as sns\n",
    "from sklearn.model_selection import train_test_split\n",
    "from sklearn.tree import DecisionTreeClassifier, export_graphviz\n",
    "from sklearn.model_selection import GridSearchCV\n",
    "from sklearn.metrics import classification_report, accuracy_score, confusion_matrix\n",
    "from IPython.display import Image, display\n",
    "import graphviz\n",
    "import pydotplus"
   ]
  },
  {
   "cell_type": "code",
   "execution_count": 2,
   "metadata": {},
   "outputs": [
    {
     "data": {
      "text/html": [
       "<div>\n",
       "<style scoped>\n",
       "    .dataframe tbody tr th:only-of-type {\n",
       "        vertical-align: middle;\n",
       "    }\n",
       "\n",
       "    .dataframe tbody tr th {\n",
       "        vertical-align: top;\n",
       "    }\n",
       "\n",
       "    .dataframe thead th {\n",
       "        text-align: right;\n",
       "    }\n",
       "</style>\n",
       "<table border=\"1\" class=\"dataframe\">\n",
       "  <thead>\n",
       "    <tr style=\"text-align: right;\">\n",
       "      <th></th>\n",
       "      <th>YEAR</th>\n",
       "      <th>AGE</th>\n",
       "      <th>EDUC</th>\n",
       "      <th>ETHNIC</th>\n",
       "      <th>RACE</th>\n",
       "      <th>GENDER</th>\n",
       "      <th>SPHSERVICE</th>\n",
       "      <th>CMPSERVICE</th>\n",
       "      <th>OPISERVICE</th>\n",
       "      <th>RTCSERVICE</th>\n",
       "      <th>...</th>\n",
       "      <th>ODDFLG</th>\n",
       "      <th>PDDFLG</th>\n",
       "      <th>PERSONFLG</th>\n",
       "      <th>SCHIZOFLG</th>\n",
       "      <th>ALCSUBFLG</th>\n",
       "      <th>OTHERDISFLG</th>\n",
       "      <th>STATEFIP</th>\n",
       "      <th>DIVISION</th>\n",
       "      <th>REGION</th>\n",
       "      <th>CASEID</th>\n",
       "    </tr>\n",
       "  </thead>\n",
       "  <tbody>\n",
       "    <tr>\n",
       "      <th>0</th>\n",
       "      <td>2019</td>\n",
       "      <td>-9</td>\n",
       "      <td>-9</td>\n",
       "      <td>4</td>\n",
       "      <td>2</td>\n",
       "      <td>1</td>\n",
       "      <td>2</td>\n",
       "      <td>1</td>\n",
       "      <td>2</td>\n",
       "      <td>2</td>\n",
       "      <td>...</td>\n",
       "      <td>0</td>\n",
       "      <td>0</td>\n",
       "      <td>0</td>\n",
       "      <td>0</td>\n",
       "      <td>0</td>\n",
       "      <td>1</td>\n",
       "      <td>1</td>\n",
       "      <td>6</td>\n",
       "      <td>3</td>\n",
       "      <td>20190000001</td>\n",
       "    </tr>\n",
       "    <tr>\n",
       "      <th>1</th>\n",
       "      <td>2019</td>\n",
       "      <td>14</td>\n",
       "      <td>4</td>\n",
       "      <td>4</td>\n",
       "      <td>6</td>\n",
       "      <td>2</td>\n",
       "      <td>1</td>\n",
       "      <td>2</td>\n",
       "      <td>2</td>\n",
       "      <td>2</td>\n",
       "      <td>...</td>\n",
       "      <td>0</td>\n",
       "      <td>0</td>\n",
       "      <td>0</td>\n",
       "      <td>0</td>\n",
       "      <td>0</td>\n",
       "      <td>0</td>\n",
       "      <td>1</td>\n",
       "      <td>6</td>\n",
       "      <td>3</td>\n",
       "      <td>20190000002</td>\n",
       "    </tr>\n",
       "    <tr>\n",
       "      <th>2</th>\n",
       "      <td>2019</td>\n",
       "      <td>12</td>\n",
       "      <td>-9</td>\n",
       "      <td>4</td>\n",
       "      <td>3</td>\n",
       "      <td>2</td>\n",
       "      <td>1</td>\n",
       "      <td>1</td>\n",
       "      <td>2</td>\n",
       "      <td>2</td>\n",
       "      <td>...</td>\n",
       "      <td>0</td>\n",
       "      <td>0</td>\n",
       "      <td>0</td>\n",
       "      <td>1</td>\n",
       "      <td>0</td>\n",
       "      <td>0</td>\n",
       "      <td>1</td>\n",
       "      <td>6</td>\n",
       "      <td>3</td>\n",
       "      <td>20190000003</td>\n",
       "    </tr>\n",
       "    <tr>\n",
       "      <th>3</th>\n",
       "      <td>2019</td>\n",
       "      <td>10</td>\n",
       "      <td>-9</td>\n",
       "      <td>4</td>\n",
       "      <td>5</td>\n",
       "      <td>2</td>\n",
       "      <td>1</td>\n",
       "      <td>1</td>\n",
       "      <td>1</td>\n",
       "      <td>2</td>\n",
       "      <td>...</td>\n",
       "      <td>0</td>\n",
       "      <td>0</td>\n",
       "      <td>0</td>\n",
       "      <td>1</td>\n",
       "      <td>0</td>\n",
       "      <td>0</td>\n",
       "      <td>1</td>\n",
       "      <td>6</td>\n",
       "      <td>3</td>\n",
       "      <td>20190000004</td>\n",
       "    </tr>\n",
       "    <tr>\n",
       "      <th>4</th>\n",
       "      <td>2019</td>\n",
       "      <td>2</td>\n",
       "      <td>2</td>\n",
       "      <td>4</td>\n",
       "      <td>5</td>\n",
       "      <td>2</td>\n",
       "      <td>1</td>\n",
       "      <td>1</td>\n",
       "      <td>2</td>\n",
       "      <td>2</td>\n",
       "      <td>...</td>\n",
       "      <td>0</td>\n",
       "      <td>0</td>\n",
       "      <td>0</td>\n",
       "      <td>0</td>\n",
       "      <td>0</td>\n",
       "      <td>0</td>\n",
       "      <td>1</td>\n",
       "      <td>6</td>\n",
       "      <td>3</td>\n",
       "      <td>20190000005</td>\n",
       "    </tr>\n",
       "    <tr>\n",
       "      <th>...</th>\n",
       "      <td>...</td>\n",
       "      <td>...</td>\n",
       "      <td>...</td>\n",
       "      <td>...</td>\n",
       "      <td>...</td>\n",
       "      <td>...</td>\n",
       "      <td>...</td>\n",
       "      <td>...</td>\n",
       "      <td>...</td>\n",
       "      <td>...</td>\n",
       "      <td>...</td>\n",
       "      <td>...</td>\n",
       "      <td>...</td>\n",
       "      <td>...</td>\n",
       "      <td>...</td>\n",
       "      <td>...</td>\n",
       "      <td>...</td>\n",
       "      <td>...</td>\n",
       "      <td>...</td>\n",
       "      <td>...</td>\n",
       "      <td>...</td>\n",
       "    </tr>\n",
       "    <tr>\n",
       "      <th>6362039</th>\n",
       "      <td>2019</td>\n",
       "      <td>5</td>\n",
       "      <td>-9</td>\n",
       "      <td>4</td>\n",
       "      <td>5</td>\n",
       "      <td>1</td>\n",
       "      <td>2</td>\n",
       "      <td>1</td>\n",
       "      <td>2</td>\n",
       "      <td>2</td>\n",
       "      <td>...</td>\n",
       "      <td>0</td>\n",
       "      <td>0</td>\n",
       "      <td>0</td>\n",
       "      <td>0</td>\n",
       "      <td>0</td>\n",
       "      <td>0</td>\n",
       "      <td>99</td>\n",
       "      <td>0</td>\n",
       "      <td>0</td>\n",
       "      <td>20196362040</td>\n",
       "    </tr>\n",
       "    <tr>\n",
       "      <th>6362040</th>\n",
       "      <td>2019</td>\n",
       "      <td>4</td>\n",
       "      <td>4</td>\n",
       "      <td>4</td>\n",
       "      <td>6</td>\n",
       "      <td>1</td>\n",
       "      <td>2</td>\n",
       "      <td>1</td>\n",
       "      <td>2</td>\n",
       "      <td>2</td>\n",
       "      <td>...</td>\n",
       "      <td>0</td>\n",
       "      <td>0</td>\n",
       "      <td>0</td>\n",
       "      <td>0</td>\n",
       "      <td>0</td>\n",
       "      <td>0</td>\n",
       "      <td>99</td>\n",
       "      <td>0</td>\n",
       "      <td>0</td>\n",
       "      <td>20196362041</td>\n",
       "    </tr>\n",
       "    <tr>\n",
       "      <th>6362041</th>\n",
       "      <td>2019</td>\n",
       "      <td>8</td>\n",
       "      <td>1</td>\n",
       "      <td>4</td>\n",
       "      <td>2</td>\n",
       "      <td>1</td>\n",
       "      <td>2</td>\n",
       "      <td>1</td>\n",
       "      <td>2</td>\n",
       "      <td>2</td>\n",
       "      <td>...</td>\n",
       "      <td>0</td>\n",
       "      <td>0</td>\n",
       "      <td>0</td>\n",
       "      <td>1</td>\n",
       "      <td>0</td>\n",
       "      <td>0</td>\n",
       "      <td>99</td>\n",
       "      <td>0</td>\n",
       "      <td>0</td>\n",
       "      <td>20196362042</td>\n",
       "    </tr>\n",
       "    <tr>\n",
       "      <th>6362042</th>\n",
       "      <td>2019</td>\n",
       "      <td>11</td>\n",
       "      <td>4</td>\n",
       "      <td>4</td>\n",
       "      <td>4</td>\n",
       "      <td>1</td>\n",
       "      <td>2</td>\n",
       "      <td>1</td>\n",
       "      <td>2</td>\n",
       "      <td>2</td>\n",
       "      <td>...</td>\n",
       "      <td>0</td>\n",
       "      <td>0</td>\n",
       "      <td>0</td>\n",
       "      <td>0</td>\n",
       "      <td>0</td>\n",
       "      <td>0</td>\n",
       "      <td>99</td>\n",
       "      <td>0</td>\n",
       "      <td>0</td>\n",
       "      <td>20196362043</td>\n",
       "    </tr>\n",
       "    <tr>\n",
       "      <th>6362043</th>\n",
       "      <td>2019</td>\n",
       "      <td>14</td>\n",
       "      <td>-9</td>\n",
       "      <td>4</td>\n",
       "      <td>2</td>\n",
       "      <td>2</td>\n",
       "      <td>2</td>\n",
       "      <td>1</td>\n",
       "      <td>2</td>\n",
       "      <td>2</td>\n",
       "      <td>...</td>\n",
       "      <td>0</td>\n",
       "      <td>0</td>\n",
       "      <td>1</td>\n",
       "      <td>0</td>\n",
       "      <td>0</td>\n",
       "      <td>1</td>\n",
       "      <td>99</td>\n",
       "      <td>0</td>\n",
       "      <td>0</td>\n",
       "      <td>20196362044</td>\n",
       "    </tr>\n",
       "  </tbody>\n",
       "</table>\n",
       "<p>6362044 rows × 40 columns</p>\n",
       "</div>"
      ],
      "text/plain": [
       "         YEAR  AGE  EDUC  ETHNIC  RACE  GENDER  SPHSERVICE  CMPSERVICE  \\\n",
       "0        2019   -9    -9       4     2       1           2           1   \n",
       "1        2019   14     4       4     6       2           1           2   \n",
       "2        2019   12    -9       4     3       2           1           1   \n",
       "3        2019   10    -9       4     5       2           1           1   \n",
       "4        2019    2     2       4     5       2           1           1   \n",
       "...       ...  ...   ...     ...   ...     ...         ...         ...   \n",
       "6362039  2019    5    -9       4     5       1           2           1   \n",
       "6362040  2019    4     4       4     6       1           2           1   \n",
       "6362041  2019    8     1       4     2       1           2           1   \n",
       "6362042  2019   11     4       4     4       1           2           1   \n",
       "6362043  2019   14    -9       4     2       2           2           1   \n",
       "\n",
       "         OPISERVICE  RTCSERVICE  ...  ODDFLG  PDDFLG  PERSONFLG  SCHIZOFLG  \\\n",
       "0                 2           2  ...       0       0          0          0   \n",
       "1                 2           2  ...       0       0          0          0   \n",
       "2                 2           2  ...       0       0          0          1   \n",
       "3                 1           2  ...       0       0          0          1   \n",
       "4                 2           2  ...       0       0          0          0   \n",
       "...             ...         ...  ...     ...     ...        ...        ...   \n",
       "6362039           2           2  ...       0       0          0          0   \n",
       "6362040           2           2  ...       0       0          0          0   \n",
       "6362041           2           2  ...       0       0          0          1   \n",
       "6362042           2           2  ...       0       0          0          0   \n",
       "6362043           2           2  ...       0       0          1          0   \n",
       "\n",
       "         ALCSUBFLG  OTHERDISFLG  STATEFIP  DIVISION  REGION       CASEID  \n",
       "0                0            1         1         6       3  20190000001  \n",
       "1                0            0         1         6       3  20190000002  \n",
       "2                0            0         1         6       3  20190000003  \n",
       "3                0            0         1         6       3  20190000004  \n",
       "4                0            0         1         6       3  20190000005  \n",
       "...            ...          ...       ...       ...     ...          ...  \n",
       "6362039          0            0        99         0       0  20196362040  \n",
       "6362040          0            0        99         0       0  20196362041  \n",
       "6362041          0            0        99         0       0  20196362042  \n",
       "6362042          0            0        99         0       0  20196362043  \n",
       "6362043          0            1        99         0       0  20196362044  \n",
       "\n",
       "[6362044 rows x 40 columns]"
      ]
     },
     "execution_count": 2,
     "metadata": {},
     "output_type": "execute_result"
    }
   ],
   "source": [
    "# https://www.datafiles.samhsa.gov/dataset/mental-health-client-level-data-2019-mh-cld-2019-ds0001\n",
    "# https://www.datafiles.samhsa.gov/sites/default/files/MH-CLD-2019-DS0001-info-codebook.pdf - Describes the features of the dataset\n",
    "# A dataset comprised of the mental health outcomes of people in mental health treatment facilities. 2019 statistics\n",
    "# These facilities report to individual state administrative systems\n",
    "\n",
    "\n",
    "behavioral_df = pd.read_csv('mhcld-puf-2019-csv.csv')\n",
    "behavioral_df"
   ]
  },
  {
   "cell_type": "code",
   "execution_count": 3,
   "metadata": {},
   "outputs": [
    {
     "data": {
      "text/html": [
       "<div>\n",
       "<style scoped>\n",
       "    .dataframe tbody tr th:only-of-type {\n",
       "        vertical-align: middle;\n",
       "    }\n",
       "\n",
       "    .dataframe tbody tr th {\n",
       "        vertical-align: top;\n",
       "    }\n",
       "\n",
       "    .dataframe thead th {\n",
       "        text-align: right;\n",
       "    }\n",
       "</style>\n",
       "<table border=\"1\" class=\"dataframe\">\n",
       "  <thead>\n",
       "    <tr style=\"text-align: right;\">\n",
       "      <th></th>\n",
       "      <th>AGE</th>\n",
       "      <th>EDUC</th>\n",
       "      <th>ETHNIC</th>\n",
       "      <th>RACE</th>\n",
       "      <th>GENDER</th>\n",
       "      <th>MARSTAT</th>\n",
       "      <th>EMPLOY</th>\n",
       "      <th>VETERAN</th>\n",
       "      <th>DETNLF</th>\n",
       "      <th>LIVARAG</th>\n",
       "      <th>CASEID</th>\n",
       "    </tr>\n",
       "  </thead>\n",
       "  <tbody>\n",
       "    <tr>\n",
       "      <th>0</th>\n",
       "      <td>-9</td>\n",
       "      <td>-9</td>\n",
       "      <td>4</td>\n",
       "      <td>2</td>\n",
       "      <td>1</td>\n",
       "      <td>-9</td>\n",
       "      <td>-9</td>\n",
       "      <td>-9</td>\n",
       "      <td>-9</td>\n",
       "      <td>-9</td>\n",
       "      <td>20190000001</td>\n",
       "    </tr>\n",
       "    <tr>\n",
       "      <th>1</th>\n",
       "      <td>14</td>\n",
       "      <td>4</td>\n",
       "      <td>4</td>\n",
       "      <td>6</td>\n",
       "      <td>2</td>\n",
       "      <td>4</td>\n",
       "      <td>-9</td>\n",
       "      <td>2</td>\n",
       "      <td>-9</td>\n",
       "      <td>3</td>\n",
       "      <td>20190000002</td>\n",
       "    </tr>\n",
       "    <tr>\n",
       "      <th>2</th>\n",
       "      <td>12</td>\n",
       "      <td>-9</td>\n",
       "      <td>4</td>\n",
       "      <td>3</td>\n",
       "      <td>2</td>\n",
       "      <td>4</td>\n",
       "      <td>-9</td>\n",
       "      <td>2</td>\n",
       "      <td>-9</td>\n",
       "      <td>-9</td>\n",
       "      <td>20190000003</td>\n",
       "    </tr>\n",
       "    <tr>\n",
       "      <th>3</th>\n",
       "      <td>10</td>\n",
       "      <td>-9</td>\n",
       "      <td>4</td>\n",
       "      <td>5</td>\n",
       "      <td>2</td>\n",
       "      <td>1</td>\n",
       "      <td>4</td>\n",
       "      <td>-9</td>\n",
       "      <td>-9</td>\n",
       "      <td>-9</td>\n",
       "      <td>20190000004</td>\n",
       "    </tr>\n",
       "    <tr>\n",
       "      <th>4</th>\n",
       "      <td>2</td>\n",
       "      <td>2</td>\n",
       "      <td>4</td>\n",
       "      <td>5</td>\n",
       "      <td>2</td>\n",
       "      <td>1</td>\n",
       "      <td>-9</td>\n",
       "      <td>-9</td>\n",
       "      <td>-9</td>\n",
       "      <td>2</td>\n",
       "      <td>20190000005</td>\n",
       "    </tr>\n",
       "    <tr>\n",
       "      <th>...</th>\n",
       "      <td>...</td>\n",
       "      <td>...</td>\n",
       "      <td>...</td>\n",
       "      <td>...</td>\n",
       "      <td>...</td>\n",
       "      <td>...</td>\n",
       "      <td>...</td>\n",
       "      <td>...</td>\n",
       "      <td>...</td>\n",
       "      <td>...</td>\n",
       "      <td>...</td>\n",
       "    </tr>\n",
       "    <tr>\n",
       "      <th>6362039</th>\n",
       "      <td>5</td>\n",
       "      <td>-9</td>\n",
       "      <td>4</td>\n",
       "      <td>5</td>\n",
       "      <td>1</td>\n",
       "      <td>-9</td>\n",
       "      <td>-9</td>\n",
       "      <td>2</td>\n",
       "      <td>-9</td>\n",
       "      <td>-9</td>\n",
       "      <td>20196362040</td>\n",
       "    </tr>\n",
       "    <tr>\n",
       "      <th>6362040</th>\n",
       "      <td>4</td>\n",
       "      <td>4</td>\n",
       "      <td>4</td>\n",
       "      <td>6</td>\n",
       "      <td>1</td>\n",
       "      <td>1</td>\n",
       "      <td>2</td>\n",
       "      <td>2</td>\n",
       "      <td>-9</td>\n",
       "      <td>2</td>\n",
       "      <td>20196362041</td>\n",
       "    </tr>\n",
       "    <tr>\n",
       "      <th>6362041</th>\n",
       "      <td>8</td>\n",
       "      <td>1</td>\n",
       "      <td>4</td>\n",
       "      <td>2</td>\n",
       "      <td>1</td>\n",
       "      <td>1</td>\n",
       "      <td>4</td>\n",
       "      <td>2</td>\n",
       "      <td>-9</td>\n",
       "      <td>2</td>\n",
       "      <td>20196362042</td>\n",
       "    </tr>\n",
       "    <tr>\n",
       "      <th>6362042</th>\n",
       "      <td>11</td>\n",
       "      <td>4</td>\n",
       "      <td>4</td>\n",
       "      <td>4</td>\n",
       "      <td>1</td>\n",
       "      <td>2</td>\n",
       "      <td>5</td>\n",
       "      <td>2</td>\n",
       "      <td>1</td>\n",
       "      <td>2</td>\n",
       "      <td>20196362043</td>\n",
       "    </tr>\n",
       "    <tr>\n",
       "      <th>6362043</th>\n",
       "      <td>14</td>\n",
       "      <td>-9</td>\n",
       "      <td>4</td>\n",
       "      <td>2</td>\n",
       "      <td>2</td>\n",
       "      <td>4</td>\n",
       "      <td>-9</td>\n",
       "      <td>-9</td>\n",
       "      <td>-9</td>\n",
       "      <td>2</td>\n",
       "      <td>20196362044</td>\n",
       "    </tr>\n",
       "  </tbody>\n",
       "</table>\n",
       "<p>6362044 rows × 11 columns</p>\n",
       "</div>"
      ],
      "text/plain": [
       "         AGE  EDUC  ETHNIC  RACE  GENDER  MARSTAT  EMPLOY  VETERAN  DETNLF  \\\n",
       "0         -9    -9       4     2       1       -9      -9       -9      -9   \n",
       "1         14     4       4     6       2        4      -9        2      -9   \n",
       "2         12    -9       4     3       2        4      -9        2      -9   \n",
       "3         10    -9       4     5       2        1       4       -9      -9   \n",
       "4          2     2       4     5       2        1      -9       -9      -9   \n",
       "...      ...   ...     ...   ...     ...      ...     ...      ...     ...   \n",
       "6362039    5    -9       4     5       1       -9      -9        2      -9   \n",
       "6362040    4     4       4     6       1        1       2        2      -9   \n",
       "6362041    8     1       4     2       1        1       4        2      -9   \n",
       "6362042   11     4       4     4       1        2       5        2       1   \n",
       "6362043   14    -9       4     2       2        4      -9       -9      -9   \n",
       "\n",
       "         LIVARAG       CASEID  \n",
       "0             -9  20190000001  \n",
       "1              3  20190000002  \n",
       "2             -9  20190000003  \n",
       "3             -9  20190000004  \n",
       "4              2  20190000005  \n",
       "...          ...          ...  \n",
       "6362039       -9  20196362040  \n",
       "6362040        2  20196362041  \n",
       "6362041        2  20196362042  \n",
       "6362042        2  20196362043  \n",
       "6362043        2  20196362044  \n",
       "\n",
       "[6362044 rows x 11 columns]"
      ]
     },
     "execution_count": 3,
     "metadata": {},
     "output_type": "execute_result"
    }
   ],
   "source": [
    "behavioral_df = behavioral_df.drop(columns='YEAR')\n",
    "\n",
    "# Remove values that are negative (i.e -9 corresponds to a missing value)\n",
    "##behavioral_df[(behavioral_df > 0).all(1)] \n",
    "\n",
    "# Preserve order of the values for each feature besides Gender, Veteran since these are binary\n",
    "# This table is made up of purely demographic data \n",
    "\n",
    "\n",
    "demographic_df = behavioral_df[['AGE', 'EDUC', 'ETHNIC', 'RACE', 'GENDER', 'MARSTAT', 'EMPLOY', 'VETERAN', 'DETNLF', 'LIVARAG', 'CASEID']]\n",
    "demographic_df[(demographic_df > 0).all(1)]\n",
    "demographic_df"
   ]
  },
  {
   "cell_type": "code",
   "execution_count": 9,
   "metadata": {},
   "outputs": [
    {
     "name": "stderr",
     "output_type": "stream",
     "text": [
      "/opt/anaconda3/lib/python3.7/site-packages/pandas/core/frame.py:3641: SettingWithCopyWarning: \n",
      "A value is trying to be set on a copy of a slice from a DataFrame.\n",
      "Try using .loc[row_indexer,col_indexer] = value instead\n",
      "\n",
      "See the caveats in the documentation: https://pandas.pydata.org/pandas-docs/stable/user_guide/indexing.html#returning-a-view-versus-a-copy\n",
      "  self[k1] = value[k2]\n"
     ]
    },
    {
     "data": {
      "text/html": [
       "<div>\n",
       "<style scoped>\n",
       "    .dataframe tbody tr th:only-of-type {\n",
       "        vertical-align: middle;\n",
       "    }\n",
       "\n",
       "    .dataframe tbody tr th {\n",
       "        vertical-align: top;\n",
       "    }\n",
       "\n",
       "    .dataframe thead th {\n",
       "        text-align: right;\n",
       "    }\n",
       "</style>\n",
       "<table border=\"1\" class=\"dataframe\">\n",
       "  <thead>\n",
       "    <tr style=\"text-align: right;\">\n",
       "      <th></th>\n",
       "      <th>SPHSERVICE</th>\n",
       "      <th>CMPSERVICE</th>\n",
       "      <th>OPISERVICE</th>\n",
       "      <th>RTCSERVICE</th>\n",
       "      <th>IJSSERVICE</th>\n",
       "    </tr>\n",
       "  </thead>\n",
       "  <tbody>\n",
       "    <tr>\n",
       "      <th>0</th>\n",
       "      <td>0.0</td>\n",
       "      <td>1.0</td>\n",
       "      <td>0.0</td>\n",
       "      <td>0.0</td>\n",
       "      <td>0.0</td>\n",
       "    </tr>\n",
       "    <tr>\n",
       "      <th>1</th>\n",
       "      <td>1.0</td>\n",
       "      <td>0.0</td>\n",
       "      <td>0.0</td>\n",
       "      <td>0.0</td>\n",
       "      <td>0.0</td>\n",
       "    </tr>\n",
       "    <tr>\n",
       "      <th>2</th>\n",
       "      <td>1.0</td>\n",
       "      <td>1.0</td>\n",
       "      <td>0.0</td>\n",
       "      <td>0.0</td>\n",
       "      <td>0.0</td>\n",
       "    </tr>\n",
       "    <tr>\n",
       "      <th>3</th>\n",
       "      <td>1.0</td>\n",
       "      <td>1.0</td>\n",
       "      <td>1.0</td>\n",
       "      <td>0.0</td>\n",
       "      <td>0.0</td>\n",
       "    </tr>\n",
       "    <tr>\n",
       "      <th>4</th>\n",
       "      <td>1.0</td>\n",
       "      <td>1.0</td>\n",
       "      <td>0.0</td>\n",
       "      <td>0.0</td>\n",
       "      <td>0.0</td>\n",
       "    </tr>\n",
       "  </tbody>\n",
       "</table>\n",
       "</div>"
      ],
      "text/plain": [
       "   SPHSERVICE  CMPSERVICE  OPISERVICE  RTCSERVICE  IJSSERVICE\n",
       "0         0.0         1.0         0.0         0.0         0.0\n",
       "1         1.0         0.0         0.0         0.0         0.0\n",
       "2         1.0         1.0         0.0         0.0         0.0\n",
       "3         1.0         1.0         1.0         0.0         0.0\n",
       "4         1.0         1.0         0.0         0.0         0.0"
      ]
     },
     "execution_count": 9,
     "metadata": {},
     "output_type": "execute_result"
    }
   ],
   "source": [
    "# These variables account for locations where a client received mental health services\n",
    "\n",
    "service_df = behavioral_df[['SPHSERVICE', 'CMPSERVICE', 'OPISERVICE', 'RTCSERVICE', 'IJSSERVICE']]\n",
    "service_df[(service_df > 0).all(1)]\n",
    "service_df[['SPHSERVICE', 'CMPSERVICE', 'OPISERVICE', 'RTCSERVICE', 'IJSSERVICE']] = service_df[['SPHSERVICE', 'CMPSERVICE', 'OPISERVICE', 'RTCSERVICE', 'IJSSERVICE']].replace(2, 0)\n",
    "service_df[['SPHSERVICE', 'CMPSERVICE', 'OPISERVICE', 'RTCSERVICE', 'IJSSERVICE']] = service_df[['SPHSERVICE', 'CMPSERVICE', 'OPISERVICE', 'RTCSERVICE', 'IJSSERVICE']].replace(1, 1)\n",
    "\n",
    "# Subset the service dataframe\n",
    "service_subset_df = service_df[:100000]\n",
    "service_subset_df = service_subset_df.append(service_df[100000:200000].where(behavioral_df['DEPRESSFLG'] == 1))\n",
    "service_subset_df.head()"
   ]
  },
  {
   "cell_type": "code",
   "execution_count": 30,
   "metadata": {},
   "outputs": [
    {
     "name": "stderr",
     "output_type": "stream",
     "text": [
      "/opt/anaconda3/lib/python3.7/site-packages/ipykernel_launcher.py:6: SettingWithCopyWarning: \n",
      "A value is trying to be set on a copy of a slice from a DataFrame.\n",
      "Try using .loc[row_indexer,col_indexer] = value instead\n",
      "\n",
      "See the caveats in the documentation: https://pandas.pydata.org/pandas-docs/stable/user_guide/indexing.html#returning-a-view-versus-a-copy\n",
      "  \n"
     ]
    },
    {
     "data": {
      "text/html": [
       "<div>\n",
       "<style scoped>\n",
       "    .dataframe tbody tr th:only-of-type {\n",
       "        vertical-align: middle;\n",
       "    }\n",
       "\n",
       "    .dataframe tbody tr th {\n",
       "        vertical-align: top;\n",
       "    }\n",
       "\n",
       "    .dataframe thead th {\n",
       "        text-align: right;\n",
       "    }\n",
       "</style>\n",
       "<table border=\"1\" class=\"dataframe\">\n",
       "  <thead>\n",
       "    <tr style=\"text-align: right;\">\n",
       "      <th></th>\n",
       "      <th>MH1</th>\n",
       "      <th>MH2</th>\n",
       "      <th>MH3</th>\n",
       "      <th>SUB</th>\n",
       "      <th>SMISED</th>\n",
       "      <th>SAP</th>\n",
       "      <th>CASEID</th>\n",
       "    </tr>\n",
       "  </thead>\n",
       "  <tbody>\n",
       "    <tr>\n",
       "      <th>0</th>\n",
       "      <td>13</td>\n",
       "      <td>-9</td>\n",
       "      <td>-9</td>\n",
       "      <td>-9</td>\n",
       "      <td>-9</td>\n",
       "      <td>0</td>\n",
       "      <td>20190000001</td>\n",
       "    </tr>\n",
       "    <tr>\n",
       "      <th>1</th>\n",
       "      <td>7</td>\n",
       "      <td>-9</td>\n",
       "      <td>-9</td>\n",
       "      <td>-9</td>\n",
       "      <td>1</td>\n",
       "      <td>0</td>\n",
       "      <td>20190000002</td>\n",
       "    </tr>\n",
       "    <tr>\n",
       "      <th>2</th>\n",
       "      <td>11</td>\n",
       "      <td>-9</td>\n",
       "      <td>-9</td>\n",
       "      <td>-9</td>\n",
       "      <td>-9</td>\n",
       "      <td>0</td>\n",
       "      <td>20190000003</td>\n",
       "    </tr>\n",
       "    <tr>\n",
       "      <th>3</th>\n",
       "      <td>11</td>\n",
       "      <td>-9</td>\n",
       "      <td>-9</td>\n",
       "      <td>-9</td>\n",
       "      <td>1</td>\n",
       "      <td>0</td>\n",
       "      <td>20190000004</td>\n",
       "    </tr>\n",
       "    <tr>\n",
       "      <th>4</th>\n",
       "      <td>1</td>\n",
       "      <td>-9</td>\n",
       "      <td>-9</td>\n",
       "      <td>-9</td>\n",
       "      <td>2</td>\n",
       "      <td>0</td>\n",
       "      <td>20190000005</td>\n",
       "    </tr>\n",
       "    <tr>\n",
       "      <th>...</th>\n",
       "      <td>...</td>\n",
       "      <td>...</td>\n",
       "      <td>...</td>\n",
       "      <td>...</td>\n",
       "      <td>...</td>\n",
       "      <td>...</td>\n",
       "      <td>...</td>\n",
       "    </tr>\n",
       "    <tr>\n",
       "      <th>6362039</th>\n",
       "      <td>6</td>\n",
       "      <td>-9</td>\n",
       "      <td>-9</td>\n",
       "      <td>-9</td>\n",
       "      <td>1</td>\n",
       "      <td>-9</td>\n",
       "      <td>20196362040</td>\n",
       "    </tr>\n",
       "    <tr>\n",
       "      <th>6362040</th>\n",
       "      <td>2</td>\n",
       "      <td>-9</td>\n",
       "      <td>-9</td>\n",
       "      <td>-9</td>\n",
       "      <td>1</td>\n",
       "      <td>-9</td>\n",
       "      <td>20196362041</td>\n",
       "    </tr>\n",
       "    <tr>\n",
       "      <th>6362041</th>\n",
       "      <td>11</td>\n",
       "      <td>-9</td>\n",
       "      <td>-9</td>\n",
       "      <td>-9</td>\n",
       "      <td>1</td>\n",
       "      <td>-9</td>\n",
       "      <td>20196362042</td>\n",
       "    </tr>\n",
       "    <tr>\n",
       "      <th>6362042</th>\n",
       "      <td>7</td>\n",
       "      <td>-9</td>\n",
       "      <td>-9</td>\n",
       "      <td>-9</td>\n",
       "      <td>1</td>\n",
       "      <td>-9</td>\n",
       "      <td>20196362043</td>\n",
       "    </tr>\n",
       "    <tr>\n",
       "      <th>6362043</th>\n",
       "      <td>7</td>\n",
       "      <td>10</td>\n",
       "      <td>13</td>\n",
       "      <td>-9</td>\n",
       "      <td>1</td>\n",
       "      <td>-9</td>\n",
       "      <td>20196362044</td>\n",
       "    </tr>\n",
       "  </tbody>\n",
       "</table>\n",
       "<p>6362044 rows × 7 columns</p>\n",
       "</div>"
      ],
      "text/plain": [
       "         MH1  MH2  MH3  SUB  SMISED  SAP       CASEID\n",
       "0         13   -9   -9   -9      -9    0  20190000001\n",
       "1          7   -9   -9   -9       1    0  20190000002\n",
       "2         11   -9   -9   -9      -9    0  20190000003\n",
       "3         11   -9   -9   -9       1    0  20190000004\n",
       "4          1   -9   -9   -9       2    0  20190000005\n",
       "...      ...  ...  ...  ...     ...  ...          ...\n",
       "6362039    6   -9   -9   -9       1   -9  20196362040\n",
       "6362040    2   -9   -9   -9       1   -9  20196362041\n",
       "6362041   11   -9   -9   -9       1   -9  20196362042\n",
       "6362042    7   -9   -9   -9       1   -9  20196362043\n",
       "6362043    7   10   13   -9       1   -9  20196362044\n",
       "\n",
       "[6362044 rows x 7 columns]"
      ]
     },
     "execution_count": 30,
     "metadata": {},
     "output_type": "execute_result"
    }
   ],
   "source": [
    "# IMPORTANT DATAFRAME: TABLE OF FEATURES OF TYPE OF MENTAL HEALTH DIAGNOSIS DURING THE 2019 REPORTING PERIOD OF THIS DATA\n",
    "# values correpond to labels of the type of disorder a person was diagnosed with \n",
    "\n",
    "\n",
    "mh_diagnosis_kind_df = behavioral_df[['MH1', 'MH2', 'MH3', 'SUB', 'SMISED', 'SAP', 'CASEID']]\n",
    "mh_diagnosis_kind_df['SAP'] = mh_diagnosis_kind_df['SAP'].replace(2, 0)\n",
    "mh_diagnosis_kind_df[(mh_diagnosis_kind_df > 0).all(1)]\n",
    "mh_diagnosis_kind_df"
   ]
  },
  {
   "cell_type": "code",
   "execution_count": 45,
   "metadata": {},
   "outputs": [
    {
     "data": {
      "text/html": [
       "<div>\n",
       "<style scoped>\n",
       "    .dataframe tbody tr th:only-of-type {\n",
       "        vertical-align: middle;\n",
       "    }\n",
       "\n",
       "    .dataframe tbody tr th {\n",
       "        vertical-align: top;\n",
       "    }\n",
       "\n",
       "    .dataframe thead th {\n",
       "        text-align: right;\n",
       "    }\n",
       "</style>\n",
       "<table border=\"1\" class=\"dataframe\">\n",
       "  <thead>\n",
       "    <tr style=\"text-align: right;\">\n",
       "      <th></th>\n",
       "      <th>ANXIETYFLG</th>\n",
       "      <th>ADHDFLG</th>\n",
       "      <th>BIPOLARFLG</th>\n",
       "      <th>SCHIZOFLG</th>\n",
       "      <th>TRAUSTREFLG</th>\n",
       "      <th>CONDUCTFLG</th>\n",
       "      <th>DELIRDEMFLG</th>\n",
       "      <th>ODDFLG</th>\n",
       "      <th>PDDFLG</th>\n",
       "      <th>PERSONFLG</th>\n",
       "      <th>ALCSUBFLG</th>\n",
       "      <th>DEPRESSFLG</th>\n",
       "      <th>CASEID</th>\n",
       "    </tr>\n",
       "  </thead>\n",
       "  <tbody>\n",
       "    <tr>\n",
       "      <th>0</th>\n",
       "      <td>0</td>\n",
       "      <td>0</td>\n",
       "      <td>0</td>\n",
       "      <td>0</td>\n",
       "      <td>0</td>\n",
       "      <td>0</td>\n",
       "      <td>0</td>\n",
       "      <td>0</td>\n",
       "      <td>0</td>\n",
       "      <td>0</td>\n",
       "      <td>0</td>\n",
       "      <td>0</td>\n",
       "      <td>20190000001</td>\n",
       "    </tr>\n",
       "    <tr>\n",
       "      <th>1</th>\n",
       "      <td>0</td>\n",
       "      <td>0</td>\n",
       "      <td>0</td>\n",
       "      <td>0</td>\n",
       "      <td>0</td>\n",
       "      <td>0</td>\n",
       "      <td>0</td>\n",
       "      <td>0</td>\n",
       "      <td>0</td>\n",
       "      <td>0</td>\n",
       "      <td>0</td>\n",
       "      <td>1</td>\n",
       "      <td>20190000002</td>\n",
       "    </tr>\n",
       "    <tr>\n",
       "      <th>2</th>\n",
       "      <td>0</td>\n",
       "      <td>0</td>\n",
       "      <td>0</td>\n",
       "      <td>1</td>\n",
       "      <td>0</td>\n",
       "      <td>0</td>\n",
       "      <td>0</td>\n",
       "      <td>0</td>\n",
       "      <td>0</td>\n",
       "      <td>0</td>\n",
       "      <td>0</td>\n",
       "      <td>0</td>\n",
       "      <td>20190000003</td>\n",
       "    </tr>\n",
       "    <tr>\n",
       "      <th>3</th>\n",
       "      <td>0</td>\n",
       "      <td>0</td>\n",
       "      <td>0</td>\n",
       "      <td>1</td>\n",
       "      <td>0</td>\n",
       "      <td>0</td>\n",
       "      <td>0</td>\n",
       "      <td>0</td>\n",
       "      <td>0</td>\n",
       "      <td>0</td>\n",
       "      <td>0</td>\n",
       "      <td>0</td>\n",
       "      <td>20190000004</td>\n",
       "    </tr>\n",
       "    <tr>\n",
       "      <th>4</th>\n",
       "      <td>0</td>\n",
       "      <td>0</td>\n",
       "      <td>0</td>\n",
       "      <td>0</td>\n",
       "      <td>1</td>\n",
       "      <td>0</td>\n",
       "      <td>0</td>\n",
       "      <td>0</td>\n",
       "      <td>0</td>\n",
       "      <td>0</td>\n",
       "      <td>0</td>\n",
       "      <td>0</td>\n",
       "      <td>20190000005</td>\n",
       "    </tr>\n",
       "    <tr>\n",
       "      <th>...</th>\n",
       "      <td>...</td>\n",
       "      <td>...</td>\n",
       "      <td>...</td>\n",
       "      <td>...</td>\n",
       "      <td>...</td>\n",
       "      <td>...</td>\n",
       "      <td>...</td>\n",
       "      <td>...</td>\n",
       "      <td>...</td>\n",
       "      <td>...</td>\n",
       "      <td>...</td>\n",
       "      <td>...</td>\n",
       "      <td>...</td>\n",
       "    </tr>\n",
       "    <tr>\n",
       "      <th>6362039</th>\n",
       "      <td>0</td>\n",
       "      <td>0</td>\n",
       "      <td>1</td>\n",
       "      <td>0</td>\n",
       "      <td>0</td>\n",
       "      <td>0</td>\n",
       "      <td>0</td>\n",
       "      <td>0</td>\n",
       "      <td>0</td>\n",
       "      <td>0</td>\n",
       "      <td>0</td>\n",
       "      <td>0</td>\n",
       "      <td>20196362040</td>\n",
       "    </tr>\n",
       "    <tr>\n",
       "      <th>6362040</th>\n",
       "      <td>1</td>\n",
       "      <td>0</td>\n",
       "      <td>0</td>\n",
       "      <td>0</td>\n",
       "      <td>0</td>\n",
       "      <td>0</td>\n",
       "      <td>0</td>\n",
       "      <td>0</td>\n",
       "      <td>0</td>\n",
       "      <td>0</td>\n",
       "      <td>0</td>\n",
       "      <td>0</td>\n",
       "      <td>20196362041</td>\n",
       "    </tr>\n",
       "    <tr>\n",
       "      <th>6362041</th>\n",
       "      <td>0</td>\n",
       "      <td>0</td>\n",
       "      <td>0</td>\n",
       "      <td>1</td>\n",
       "      <td>0</td>\n",
       "      <td>0</td>\n",
       "      <td>0</td>\n",
       "      <td>0</td>\n",
       "      <td>0</td>\n",
       "      <td>0</td>\n",
       "      <td>0</td>\n",
       "      <td>0</td>\n",
       "      <td>20196362042</td>\n",
       "    </tr>\n",
       "    <tr>\n",
       "      <th>6362042</th>\n",
       "      <td>0</td>\n",
       "      <td>0</td>\n",
       "      <td>0</td>\n",
       "      <td>0</td>\n",
       "      <td>0</td>\n",
       "      <td>0</td>\n",
       "      <td>0</td>\n",
       "      <td>0</td>\n",
       "      <td>0</td>\n",
       "      <td>0</td>\n",
       "      <td>0</td>\n",
       "      <td>1</td>\n",
       "      <td>20196362043</td>\n",
       "    </tr>\n",
       "    <tr>\n",
       "      <th>6362043</th>\n",
       "      <td>0</td>\n",
       "      <td>0</td>\n",
       "      <td>0</td>\n",
       "      <td>0</td>\n",
       "      <td>0</td>\n",
       "      <td>0</td>\n",
       "      <td>0</td>\n",
       "      <td>0</td>\n",
       "      <td>0</td>\n",
       "      <td>1</td>\n",
       "      <td>0</td>\n",
       "      <td>1</td>\n",
       "      <td>20196362044</td>\n",
       "    </tr>\n",
       "  </tbody>\n",
       "</table>\n",
       "<p>6362044 rows × 13 columns</p>\n",
       "</div>"
      ],
      "text/plain": [
       "         ANXIETYFLG  ADHDFLG  BIPOLARFLG  SCHIZOFLG  TRAUSTREFLG  CONDUCTFLG  \\\n",
       "0                 0        0           0          0            0           0   \n",
       "1                 0        0           0          0            0           0   \n",
       "2                 0        0           0          1            0           0   \n",
       "3                 0        0           0          1            0           0   \n",
       "4                 0        0           0          0            1           0   \n",
       "...             ...      ...         ...        ...          ...         ...   \n",
       "6362039           0        0           1          0            0           0   \n",
       "6362040           1        0           0          0            0           0   \n",
       "6362041           0        0           0          1            0           0   \n",
       "6362042           0        0           0          0            0           0   \n",
       "6362043           0        0           0          0            0           0   \n",
       "\n",
       "         DELIRDEMFLG  ODDFLG  PDDFLG  PERSONFLG  ALCSUBFLG  DEPRESSFLG  \\\n",
       "0                  0       0       0          0          0           0   \n",
       "1                  0       0       0          0          0           1   \n",
       "2                  0       0       0          0          0           0   \n",
       "3                  0       0       0          0          0           0   \n",
       "4                  0       0       0          0          0           0   \n",
       "...              ...     ...     ...        ...        ...         ...   \n",
       "6362039            0       0       0          0          0           0   \n",
       "6362040            0       0       0          0          0           0   \n",
       "6362041            0       0       0          0          0           0   \n",
       "6362042            0       0       0          0          0           1   \n",
       "6362043            0       0       0          1          0           1   \n",
       "\n",
       "              CASEID  \n",
       "0        20190000001  \n",
       "1        20190000002  \n",
       "2        20190000003  \n",
       "3        20190000004  \n",
       "4        20190000005  \n",
       "...              ...  \n",
       "6362039  20196362040  \n",
       "6362040  20196362041  \n",
       "6362041  20196362042  \n",
       "6362042  20196362043  \n",
       "6362043  20196362044  \n",
       "\n",
       "[6362044 rows x 13 columns]"
      ]
     },
     "execution_count": 45,
     "metadata": {},
     "output_type": "execute_result"
    }
   ],
   "source": [
    "# DATAFRAME OF REPORTED DISORDERS. The disorders covered here are mentioned as the types of disorder diagnosis \n",
    "# made in the table above\n",
    "\n",
    "reported_disorder_df = behavioral_df[['ANXIETYFLG', 'ADHDFLG', 'BIPOLARFLG', 'SCHIZOFLG', 'TRAUSTREFLG', 'CONDUCTFLG', \n",
    "                                    'DELIRDEMFLG', 'ODDFLG', 'PDDFLG', 'PERSONFLG', 'ALCSUBFLG', 'DEPRESSFLG', 'CASEID']]\n",
    "\n",
    "# The variable below characterizes whether or not a patient has depression \n",
    "# DEPRESSION_DIAGNOSIS SERVES AS THE TARGET VARIABLE TO PREDICT\n",
    "# NOTE: SAMPLES OF NO REPORTS OF DEPRESSION ARE 2X GREATER THAN THOSE REPORTS OF PATIENTS WITH DEPRESSION\n",
    "# DATA IMBALANCE ISSUE \n",
    "\n",
    "\n",
    "reported_disorder_df"
   ]
  },
  {
   "cell_type": "markdown",
   "metadata": {},
   "source": [
    "# Demographic Data Cleaning \n",
    "- The original dataset is broken up into 4 subsets where each subset contains a group of similar variables\n",
    "- lets gain insight into the demographic makeup of the Client-Level Mental Health 2019 Report"
   ]
  },
  {
   "cell_type": "markdown",
   "metadata": {},
   "source": [
    "- Retrieve class 1 points to avoid data imbalance issues"
   ]
  },
  {
   "cell_type": "code",
   "execution_count": 12,
   "metadata": {},
   "outputs": [
    {
     "name": "stdout",
     "output_type": "stream",
     "text": [
      "Number of datapoints is 200000\n"
     ]
    },
    {
     "data": {
      "text/html": [
       "<div>\n",
       "<style scoped>\n",
       "    .dataframe tbody tr th:only-of-type {\n",
       "        vertical-align: middle;\n",
       "    }\n",
       "\n",
       "    .dataframe tbody tr th {\n",
       "        vertical-align: top;\n",
       "    }\n",
       "\n",
       "    .dataframe thead th {\n",
       "        text-align: right;\n",
       "    }\n",
       "</style>\n",
       "<table border=\"1\" class=\"dataframe\">\n",
       "  <thead>\n",
       "    <tr style=\"text-align: right;\">\n",
       "      <th></th>\n",
       "      <th>AGE</th>\n",
       "      <th>EDUC</th>\n",
       "      <th>ETHNIC</th>\n",
       "      <th>RACE</th>\n",
       "      <th>GENDER</th>\n",
       "      <th>MARSTAT</th>\n",
       "      <th>EMPLOY</th>\n",
       "      <th>VETERAN</th>\n",
       "      <th>DETNLF</th>\n",
       "      <th>LIVARAG</th>\n",
       "      <th>CASEID</th>\n",
       "    </tr>\n",
       "  </thead>\n",
       "  <tbody>\n",
       "    <tr>\n",
       "      <th>0</th>\n",
       "      <td>NaN</td>\n",
       "      <td>NaN</td>\n",
       "      <td>4.0</td>\n",
       "      <td>2.0</td>\n",
       "      <td>1.0</td>\n",
       "      <td>NaN</td>\n",
       "      <td>NaN</td>\n",
       "      <td>NaN</td>\n",
       "      <td>NaN</td>\n",
       "      <td>NaN</td>\n",
       "      <td>2.019000e+10</td>\n",
       "    </tr>\n",
       "    <tr>\n",
       "      <th>1</th>\n",
       "      <td>14.0</td>\n",
       "      <td>4.0</td>\n",
       "      <td>4.0</td>\n",
       "      <td>6.0</td>\n",
       "      <td>0.0</td>\n",
       "      <td>4.0</td>\n",
       "      <td>NaN</td>\n",
       "      <td>0.0</td>\n",
       "      <td>NaN</td>\n",
       "      <td>3.0</td>\n",
       "      <td>2.019000e+10</td>\n",
       "    </tr>\n",
       "    <tr>\n",
       "      <th>2</th>\n",
       "      <td>12.0</td>\n",
       "      <td>NaN</td>\n",
       "      <td>4.0</td>\n",
       "      <td>3.0</td>\n",
       "      <td>0.0</td>\n",
       "      <td>4.0</td>\n",
       "      <td>NaN</td>\n",
       "      <td>0.0</td>\n",
       "      <td>NaN</td>\n",
       "      <td>NaN</td>\n",
       "      <td>2.019000e+10</td>\n",
       "    </tr>\n",
       "    <tr>\n",
       "      <th>3</th>\n",
       "      <td>10.0</td>\n",
       "      <td>NaN</td>\n",
       "      <td>4.0</td>\n",
       "      <td>5.0</td>\n",
       "      <td>0.0</td>\n",
       "      <td>1.0</td>\n",
       "      <td>4.0</td>\n",
       "      <td>NaN</td>\n",
       "      <td>NaN</td>\n",
       "      <td>NaN</td>\n",
       "      <td>2.019000e+10</td>\n",
       "    </tr>\n",
       "    <tr>\n",
       "      <th>4</th>\n",
       "      <td>2.0</td>\n",
       "      <td>2.0</td>\n",
       "      <td>4.0</td>\n",
       "      <td>5.0</td>\n",
       "      <td>0.0</td>\n",
       "      <td>1.0</td>\n",
       "      <td>NaN</td>\n",
       "      <td>NaN</td>\n",
       "      <td>NaN</td>\n",
       "      <td>2.0</td>\n",
       "      <td>2.019000e+10</td>\n",
       "    </tr>\n",
       "  </tbody>\n",
       "</table>\n",
       "</div>"
      ],
      "text/plain": [
       "    AGE  EDUC  ETHNIC  RACE  GENDER  MARSTAT  EMPLOY  VETERAN  DETNLF  \\\n",
       "0   NaN   NaN     4.0   2.0     1.0      NaN     NaN      NaN     NaN   \n",
       "1  14.0   4.0     4.0   6.0     0.0      4.0     NaN      0.0     NaN   \n",
       "2  12.0   NaN     4.0   3.0     0.0      4.0     NaN      0.0     NaN   \n",
       "3  10.0   NaN     4.0   5.0     0.0      1.0     4.0      NaN     NaN   \n",
       "4   2.0   2.0     4.0   5.0     0.0      1.0     NaN      NaN     NaN   \n",
       "\n",
       "   LIVARAG        CASEID  \n",
       "0      NaN  2.019000e+10  \n",
       "1      3.0  2.019000e+10  \n",
       "2      NaN  2.019000e+10  \n",
       "3      NaN  2.019000e+10  \n",
       "4      2.0  2.019000e+10  "
      ]
     },
     "execution_count": 12,
     "metadata": {},
     "output_type": "execute_result"
    }
   ],
   "source": [
    "# Subset 100,000 rows from the dataset\n",
    "demsubset_df = demographic_df[:100000]\n",
    "demsubset_df = demsubset_df.append(demographic_df[100000:200000].where(behavioral_df['DEPRESSFLG'] == 1))\n",
    "demsubset_df.index = np.arange(0, len(demsubset_df))\n",
    "print('Number of datapoints is {}'.format(len(demsubset_df.values)))\n",
    "\n",
    "demsubset_df = demsubset_df.replace(-9, np.nan)\n",
    "demsubset_df['VETERAN'] = demsubset_df['VETERAN'].replace(2, 0)\n",
    "demsubset_df['GENDER'] = demsubset_df['GENDER'].replace(2, 0)\n",
    "demsubset_df.head() "
   ]
  },
  {
   "cell_type": "code",
   "execution_count": 13,
   "metadata": {},
   "outputs": [
    {
     "name": "stdout",
     "output_type": "stream",
     "text": [
      "AGE value counts \n",
      "\n"
     ]
    },
    {
     "data": {
      "text/plain": [
       "NaN     74078\n",
       "1.0     16691\n",
       "3.0     11303\n",
       "2.0     10166\n",
       "7.0      9314\n",
       "8.0      9273\n",
       "6.0      9161\n",
       "12.0     8588\n",
       "11.0     8549\n",
       "9.0      8377\n",
       "10.0     8312\n",
       "14.0     7327\n",
       "13.0     6480\n",
       "4.0      6246\n",
       "5.0      6135\n",
       "Name: AGE, dtype: int64"
      ]
     },
     "metadata": {},
     "output_type": "display_data"
    },
    {
     "name": "stdout",
     "output_type": "stream",
     "text": [
      "-------------------------------------------\n",
      "EDUC value counts \n",
      "\n"
     ]
    },
    {
     "data": {
      "text/plain": [
       "NaN    96639\n",
       "4.0    36703\n",
       "2.0    34562\n",
       "3.0    20434\n",
       "5.0    10721\n",
       "1.0      941\n",
       "Name: EDUC, dtype: int64"
      ]
     },
     "metadata": {},
     "output_type": "display_data"
    },
    {
     "name": "stdout",
     "output_type": "stream",
     "text": [
      "-------------------------------------------\n",
      "ETHNIC value counts \n",
      "\n"
     ]
    },
    {
     "data": {
      "text/plain": [
       "4.0    118068\n",
       "NaN     76831\n",
       "3.0      3561\n",
       "1.0      1168\n",
       "2.0       372\n",
       "Name: ETHNIC, dtype: int64"
      ]
     },
     "metadata": {},
     "output_type": "display_data"
    },
    {
     "name": "stdout",
     "output_type": "stream",
     "text": [
      "-------------------------------------------\n",
      "RACE value counts \n",
      "\n"
     ]
    },
    {
     "data": {
      "text/plain": [
       "NaN    78453\n",
       "5.0    69232\n",
       "3.0    42001\n",
       "6.0     8588\n",
       "1.0     1133\n",
       "2.0      466\n",
       "4.0      127\n",
       "Name: RACE, dtype: int64"
      ]
     },
     "metadata": {},
     "output_type": "display_data"
    },
    {
     "name": "stdout",
     "output_type": "stream",
     "text": [
      "-------------------------------------------\n",
      "GENDER value counts \n",
      "\n"
     ]
    },
    {
     "data": {
      "text/plain": [
       "NaN    74103\n",
       "0.0    69316\n",
       "1.0    56581\n",
       "Name: GENDER, dtype: int64"
      ]
     },
     "metadata": {},
     "output_type": "display_data"
    },
    {
     "name": "stdout",
     "output_type": "stream",
     "text": [
      "-------------------------------------------\n",
      "MARSTAT value counts \n",
      "\n"
     ]
    },
    {
     "data": {
      "text/plain": [
       "NaN    95826\n",
       "1.0    69619\n",
       "4.0    15913\n",
       "2.0    13000\n",
       "3.0     5642\n",
       "Name: MARSTAT, dtype: int64"
      ]
     },
     "metadata": {},
     "output_type": "display_data"
    },
    {
     "name": "stdout",
     "output_type": "stream",
     "text": [
      "-------------------------------------------\n",
      "EMPLOY value counts \n",
      "\n"
     ]
    },
    {
     "data": {
      "text/plain": [
       "NaN    130667\n",
       "5.0     39428\n",
       "4.0     17972\n",
       "1.0      5577\n",
       "2.0      3256\n",
       "3.0      3100\n",
       "Name: EMPLOY, dtype: int64"
      ]
     },
     "metadata": {},
     "output_type": "display_data"
    },
    {
     "name": "stdout",
     "output_type": "stream",
     "text": [
      "-------------------------------------------\n",
      "VETERAN value counts \n",
      "\n"
     ]
    },
    {
     "data": {
      "text/plain": [
       "NaN    109463\n",
       "0.0     89477\n",
       "1.0      1060\n",
       "Name: VETERAN, dtype: int64"
      ]
     },
     "metadata": {},
     "output_type": "display_data"
    },
    {
     "name": "stdout",
     "output_type": "stream",
     "text": [
      "-------------------------------------------\n",
      "DETNLF value counts \n",
      "\n"
     ]
    },
    {
     "data": {
      "text/plain": [
       "NaN    160572\n",
       "1.0     16011\n",
       "5.0     15410\n",
       "2.0      7080\n",
       "3.0       899\n",
       "4.0        28\n",
       "Name: DETNLF, dtype: int64"
      ]
     },
     "metadata": {},
     "output_type": "display_data"
    },
    {
     "name": "stdout",
     "output_type": "stream",
     "text": [
      "-------------------------------------------\n",
      "LIVARAG value counts \n",
      "\n"
     ]
    },
    {
     "data": {
      "text/plain": [
       "NaN    110545\n",
       "2.0     82217\n",
       "3.0      5689\n",
       "1.0      1549\n",
       "Name: LIVARAG, dtype: int64"
      ]
     },
     "metadata": {},
     "output_type": "display_data"
    },
    {
     "name": "stdout",
     "output_type": "stream",
     "text": [
      "-------------------------------------------\n",
      "CASEID value counts \n",
      "\n"
     ]
    },
    {
     "data": {
      "text/plain": [
       "NaN             74064\n",
       "2.019000e+10        1\n",
       "2.019008e+10        1\n",
       "2.019008e+10        1\n",
       "2.019008e+10        1\n",
       "                ...  \n",
       "2.019004e+10        1\n",
       "2.019004e+10        1\n",
       "2.019004e+10        1\n",
       "2.019004e+10        1\n",
       "2.019020e+10        1\n",
       "Name: CASEID, Length: 125937, dtype: int64"
      ]
     },
     "metadata": {},
     "output_type": "display_data"
    },
    {
     "name": "stdout",
     "output_type": "stream",
     "text": [
      "-------------------------------------------\n"
     ]
    }
   ],
   "source": [
    "# Take a peak at the value counts for each value of each column\n",
    "for col in demsubset_df.columns:\n",
    "    print(f'{col} value counts', '\\n')\n",
    "    display(demsubset_df[col].value_counts(dropna=False))\n",
    "    print('-------------------------------------------')"
   ]
  },
  {
   "cell_type": "code",
   "execution_count": 14,
   "metadata": {},
   "outputs": [
    {
     "data": {
      "text/plain": [
       "AGE         74078\n",
       "EDUC        96639\n",
       "ETHNIC      76831\n",
       "RACE        78453\n",
       "GENDER      74103\n",
       "MARSTAT     95826\n",
       "EMPLOY     130667\n",
       "VETERAN    109463\n",
       "DETNLF     160572\n",
       "LIVARAG    110545\n",
       "CASEID      74064\n",
       "dtype: int64"
      ]
     },
     "execution_count": 14,
     "metadata": {},
     "output_type": "execute_result"
    }
   ],
   "source": [
    "# Look at demsubset_df na counts\n",
    "demsubset_df.isna().sum()"
   ]
  },
  {
   "cell_type": "code",
   "execution_count": 15,
   "metadata": {},
   "outputs": [],
   "source": [
    "# Drop missing values for AGE, EDUC, ETHNIC, RACE, GENDER, EMPLOY, DETNLF, LIVARAG, VETERAN, and MARSTAT columns\n",
    "\n",
    "demsubset_df.dropna(subset=['AGE', 'EDUC', 'ETHNIC', 'RACE', 'GENDER', 'MARSTAT', 'DETNLF', 'EMPLOY', 'LIVARAG', \n",
    "                           'VETERAN'], inplace=True)"
   ]
  },
  {
   "cell_type": "code",
   "execution_count": 16,
   "metadata": {},
   "outputs": [
    {
     "data": {
      "text/html": [
       "<div>\n",
       "<style scoped>\n",
       "    .dataframe tbody tr th:only-of-type {\n",
       "        vertical-align: middle;\n",
       "    }\n",
       "\n",
       "    .dataframe tbody tr th {\n",
       "        vertical-align: top;\n",
       "    }\n",
       "\n",
       "    .dataframe thead th {\n",
       "        text-align: right;\n",
       "    }\n",
       "</style>\n",
       "<table border=\"1\" class=\"dataframe\">\n",
       "  <thead>\n",
       "    <tr style=\"text-align: right;\">\n",
       "      <th></th>\n",
       "      <th>AGE</th>\n",
       "      <th>EDUC</th>\n",
       "      <th>ETHNIC</th>\n",
       "      <th>RACE</th>\n",
       "      <th>GENDER</th>\n",
       "      <th>MARSTAT</th>\n",
       "      <th>EMPLOY</th>\n",
       "      <th>VETERAN</th>\n",
       "      <th>DETNLF</th>\n",
       "      <th>LIVARAG</th>\n",
       "      <th>CASEID</th>\n",
       "    </tr>\n",
       "  </thead>\n",
       "  <tbody>\n",
       "    <tr>\n",
       "      <th>28</th>\n",
       "      <td>3.0</td>\n",
       "      <td>3.0</td>\n",
       "      <td>4.0</td>\n",
       "      <td>5.0</td>\n",
       "      <td>0.0</td>\n",
       "      <td>1.0</td>\n",
       "      <td>5.0</td>\n",
       "      <td>0.0</td>\n",
       "      <td>2.0</td>\n",
       "      <td>2.0</td>\n",
       "      <td>2.019000e+10</td>\n",
       "    </tr>\n",
       "    <tr>\n",
       "      <th>32</th>\n",
       "      <td>10.0</td>\n",
       "      <td>3.0</td>\n",
       "      <td>4.0</td>\n",
       "      <td>5.0</td>\n",
       "      <td>1.0</td>\n",
       "      <td>4.0</td>\n",
       "      <td>5.0</td>\n",
       "      <td>0.0</td>\n",
       "      <td>1.0</td>\n",
       "      <td>2.0</td>\n",
       "      <td>2.019000e+10</td>\n",
       "    </tr>\n",
       "    <tr>\n",
       "      <th>34</th>\n",
       "      <td>11.0</td>\n",
       "      <td>2.0</td>\n",
       "      <td>4.0</td>\n",
       "      <td>5.0</td>\n",
       "      <td>1.0</td>\n",
       "      <td>4.0</td>\n",
       "      <td>5.0</td>\n",
       "      <td>0.0</td>\n",
       "      <td>1.0</td>\n",
       "      <td>2.0</td>\n",
       "      <td>2.019000e+10</td>\n",
       "    </tr>\n",
       "    <tr>\n",
       "      <th>36</th>\n",
       "      <td>11.0</td>\n",
       "      <td>3.0</td>\n",
       "      <td>4.0</td>\n",
       "      <td>5.0</td>\n",
       "      <td>0.0</td>\n",
       "      <td>2.0</td>\n",
       "      <td>5.0</td>\n",
       "      <td>0.0</td>\n",
       "      <td>1.0</td>\n",
       "      <td>2.0</td>\n",
       "      <td>2.019000e+10</td>\n",
       "    </tr>\n",
       "    <tr>\n",
       "      <th>38</th>\n",
       "      <td>9.0</td>\n",
       "      <td>4.0</td>\n",
       "      <td>4.0</td>\n",
       "      <td>3.0</td>\n",
       "      <td>1.0</td>\n",
       "      <td>4.0</td>\n",
       "      <td>5.0</td>\n",
       "      <td>0.0</td>\n",
       "      <td>1.0</td>\n",
       "      <td>2.0</td>\n",
       "      <td>2.019000e+10</td>\n",
       "    </tr>\n",
       "  </tbody>\n",
       "</table>\n",
       "</div>"
      ],
      "text/plain": [
       "     AGE  EDUC  ETHNIC  RACE  GENDER  MARSTAT  EMPLOY  VETERAN  DETNLF  \\\n",
       "28   3.0   3.0     4.0   5.0     0.0      1.0     5.0      0.0     2.0   \n",
       "32  10.0   3.0     4.0   5.0     1.0      4.0     5.0      0.0     1.0   \n",
       "34  11.0   2.0     4.0   5.0     1.0      4.0     5.0      0.0     1.0   \n",
       "36  11.0   3.0     4.0   5.0     0.0      2.0     5.0      0.0     1.0   \n",
       "38   9.0   4.0     4.0   3.0     1.0      4.0     5.0      0.0     1.0   \n",
       "\n",
       "    LIVARAG        CASEID  \n",
       "28      2.0  2.019000e+10  \n",
       "32      2.0  2.019000e+10  \n",
       "34      2.0  2.019000e+10  \n",
       "36      2.0  2.019000e+10  \n",
       "38      2.0  2.019000e+10  "
      ]
     },
     "execution_count": 16,
     "metadata": {},
     "output_type": "execute_result"
    }
   ],
   "source": [
    "demsubset_df.head()"
   ]
  },
  {
   "cell_type": "code",
   "execution_count": 17,
   "metadata": {},
   "outputs": [
    {
     "name": "stdout",
     "output_type": "stream",
     "text": [
      "AGE value counts \n",
      "\n"
     ]
    },
    {
     "data": {
      "text/plain": [
       "14.0    2908\n",
       "3.0     2602\n",
       "12.0    2563\n",
       "11.0    2558\n",
       "10.0    2429\n",
       "8.0     2396\n",
       "9.0     2291\n",
       "4.0     2283\n",
       "7.0     2247\n",
       "13.0    2164\n",
       "6.0     2108\n",
       "5.0     1410\n",
       "Name: AGE, dtype: int64"
      ]
     },
     "metadata": {},
     "output_type": "display_data"
    },
    {
     "name": "stdout",
     "output_type": "stream",
     "text": [
      "-------------------------------------------\n",
      "EDUC value counts \n",
      "\n"
     ]
    },
    {
     "data": {
      "text/plain": [
       "4.0    12728\n",
       "3.0     7556\n",
       "2.0     3935\n",
       "5.0     3423\n",
       "1.0      317\n",
       "Name: EDUC, dtype: int64"
      ]
     },
     "metadata": {},
     "output_type": "display_data"
    },
    {
     "name": "stdout",
     "output_type": "stream",
     "text": [
      "-------------------------------------------\n",
      "ETHNIC value counts \n",
      "\n"
     ]
    },
    {
     "data": {
      "text/plain": [
       "4.0    27269\n",
       "3.0      359\n",
       "1.0      226\n",
       "2.0      105\n",
       "Name: ETHNIC, dtype: int64"
      ]
     },
     "metadata": {},
     "output_type": "display_data"
    },
    {
     "name": "stdout",
     "output_type": "stream",
     "text": [
      "-------------------------------------------\n",
      "RACE value counts \n",
      "\n"
     ]
    },
    {
     "data": {
      "text/plain": [
       "5.0    16062\n",
       "3.0     9800\n",
       "6.0     1717\n",
       "1.0      298\n",
       "2.0       65\n",
       "4.0       17\n",
       "Name: RACE, dtype: int64"
      ]
     },
     "metadata": {},
     "output_type": "display_data"
    },
    {
     "name": "stdout",
     "output_type": "stream",
     "text": [
      "-------------------------------------------\n",
      "GENDER value counts \n",
      "\n"
     ]
    },
    {
     "data": {
      "text/plain": [
       "0.0    16700\n",
       "1.0    11259\n",
       "Name: GENDER, dtype: int64"
      ]
     },
     "metadata": {},
     "output_type": "display_data"
    },
    {
     "name": "stdout",
     "output_type": "stream",
     "text": [
      "-------------------------------------------\n",
      "MARSTAT value counts \n",
      "\n"
     ]
    },
    {
     "data": {
      "text/plain": [
       "1.0    14826\n",
       "4.0     6473\n",
       "2.0     4611\n",
       "3.0     2049\n",
       "Name: MARSTAT, dtype: int64"
      ]
     },
     "metadata": {},
     "output_type": "display_data"
    },
    {
     "name": "stdout",
     "output_type": "stream",
     "text": [
      "-------------------------------------------\n",
      "EMPLOY value counts \n",
      "\n"
     ]
    },
    {
     "data": {
      "text/plain": [
       "5.0    27959\n",
       "Name: EMPLOY, dtype: int64"
      ]
     },
     "metadata": {},
     "output_type": "display_data"
    },
    {
     "name": "stdout",
     "output_type": "stream",
     "text": [
      "-------------------------------------------\n",
      "VETERAN value counts \n",
      "\n"
     ]
    },
    {
     "data": {
      "text/plain": [
       "0.0    27449\n",
       "1.0      510\n",
       "Name: VETERAN, dtype: int64"
      ]
     },
     "metadata": {},
     "output_type": "display_data"
    },
    {
     "name": "stdout",
     "output_type": "stream",
     "text": [
      "-------------------------------------------\n",
      "DETNLF value counts \n",
      "\n"
     ]
    },
    {
     "data": {
      "text/plain": [
       "1.0    13691\n",
       "5.0     8689\n",
       "2.0     4775\n",
       "3.0      795\n",
       "4.0        9\n",
       "Name: DETNLF, dtype: int64"
      ]
     },
     "metadata": {},
     "output_type": "display_data"
    },
    {
     "name": "stdout",
     "output_type": "stream",
     "text": [
      "-------------------------------------------\n",
      "LIVARAG value counts \n",
      "\n"
     ]
    },
    {
     "data": {
      "text/plain": [
       "2.0    25042\n",
       "3.0     2354\n",
       "1.0      563\n",
       "Name: LIVARAG, dtype: int64"
      ]
     },
     "metadata": {},
     "output_type": "display_data"
    },
    {
     "name": "stdout",
     "output_type": "stream",
     "text": [
      "-------------------------------------------\n",
      "CASEID value counts \n",
      "\n"
     ]
    },
    {
     "data": {
      "text/plain": [
       "2.019000e+10    1\n",
       "2.019007e+10    1\n",
       "2.019007e+10    1\n",
       "2.019007e+10    1\n",
       "2.019007e+10    1\n",
       "               ..\n",
       "2.019004e+10    1\n",
       "2.019004e+10    1\n",
       "2.019004e+10    1\n",
       "2.019004e+10    1\n",
       "2.019011e+10    1\n",
       "Name: CASEID, Length: 27959, dtype: int64"
      ]
     },
     "metadata": {},
     "output_type": "display_data"
    },
    {
     "name": "stdout",
     "output_type": "stream",
     "text": [
      "-------------------------------------------\n"
     ]
    }
   ],
   "source": [
    "# Confirm the correct na values were dropped from each specified column\n",
    "\n",
    "for col in demsubset_df.columns:\n",
    "    print(f'{col} value counts', '\\n')\n",
    "    display(demsubset_df[col].value_counts(dropna=False))\n",
    "    print('-------------------------------------------')"
   ]
  },
  {
   "cell_type": "code",
   "execution_count": 18,
   "metadata": {},
   "outputs": [],
   "source": [
    "# Filling in names of values for multiple columns. Specify new dataframe for cleaned demographic data\n",
    "demsubset_df['MARSTAT'].replace({1.0:'Never married',\n",
    "                                 2.0: 'Now married',\n",
    "                                 3.0: 'Separated',\n",
    "                                 4.0: 'Divorced'}, inplace=True)\n",
    "\n",
    "demsubset_df['EMPLOY'].replace({1.0:'Full Time',\n",
    "                                 2.0: 'Part Time',\n",
    "                                 3.0: 'Full Time/Part Time',\n",
    "                                 4.0: 'Unemployed',\n",
    "                                 5.0: 'Not in labor force'}, inplace=True)\n",
    "\n",
    "demsubset_df['DETNLF'].replace({1.0:'Retired, disabled',\n",
    "                                 2.0: 'Student',\n",
    "                                 3.0: 'Homemaker',\n",
    "                                 4.0: 'Sheltered/non-competitive employment',\n",
    "                                 5.0: 'Other'}, inplace=True)\n",
    "\n",
    "demsubset_df['RACE'].replace({1.0:'American Indian',\n",
    "                                 2.0: 'Asian',\n",
    "                                 3.0: 'Black or African American',\n",
    "                                 4.0: 'Native Hawaiian or Other Pacific Islander',\n",
    "                                 5.0: 'White',\n",
    "                                 6.0: 'Two or more races'}, inplace=True)\n",
    "\n",
    "demsubset_df['ETHNIC'].replace({1.0:'Mexican',\n",
    "                                 2.0: 'Puerto Rican',\n",
    "                                 3.0: 'Other Hispanic',\n",
    "                                 4.0: 'Not Hispanic'}, inplace=True)\n",
    "\n",
    "demsubset_df['LIVARAG'].replace({1.0:'Homeless',\n",
    "                                 2.0: 'Private Residence',\n",
    "                                 3.0: 'Other'}, inplace=True)\n",
    "\n",
    "demsubset_df['VETERAN'].replace({1.0: 1,\n",
    "                                 2.0: 0}, inplace=True)\n",
    "\n",
    "\n",
    "demo_clean = demsubset_df.copy()"
   ]
  },
  {
   "cell_type": "code",
   "execution_count": 19,
   "metadata": {},
   "outputs": [
    {
     "data": {
      "text/html": [
       "<div>\n",
       "<style scoped>\n",
       "    .dataframe tbody tr th:only-of-type {\n",
       "        vertical-align: middle;\n",
       "    }\n",
       "\n",
       "    .dataframe tbody tr th {\n",
       "        vertical-align: top;\n",
       "    }\n",
       "\n",
       "    .dataframe thead th {\n",
       "        text-align: right;\n",
       "    }\n",
       "</style>\n",
       "<table border=\"1\" class=\"dataframe\">\n",
       "  <thead>\n",
       "    <tr style=\"text-align: right;\">\n",
       "      <th></th>\n",
       "      <th>AGE</th>\n",
       "      <th>EDUC</th>\n",
       "      <th>ETHNIC</th>\n",
       "      <th>RACE</th>\n",
       "      <th>GENDER</th>\n",
       "      <th>MARSTAT</th>\n",
       "      <th>EMPLOY</th>\n",
       "      <th>VETERAN</th>\n",
       "      <th>DETNLF</th>\n",
       "      <th>LIVARAG</th>\n",
       "      <th>CASEID</th>\n",
       "    </tr>\n",
       "  </thead>\n",
       "  <tbody>\n",
       "    <tr>\n",
       "      <th>28</th>\n",
       "      <td>3.0</td>\n",
       "      <td>3.0</td>\n",
       "      <td>Not Hispanic</td>\n",
       "      <td>White</td>\n",
       "      <td>0.0</td>\n",
       "      <td>Never married</td>\n",
       "      <td>Not in labor force</td>\n",
       "      <td>0.0</td>\n",
       "      <td>Student</td>\n",
       "      <td>Private Residence</td>\n",
       "      <td>2.019000e+10</td>\n",
       "    </tr>\n",
       "    <tr>\n",
       "      <th>32</th>\n",
       "      <td>10.0</td>\n",
       "      <td>3.0</td>\n",
       "      <td>Not Hispanic</td>\n",
       "      <td>White</td>\n",
       "      <td>1.0</td>\n",
       "      <td>Divorced</td>\n",
       "      <td>Not in labor force</td>\n",
       "      <td>0.0</td>\n",
       "      <td>Retired, disabled</td>\n",
       "      <td>Private Residence</td>\n",
       "      <td>2.019000e+10</td>\n",
       "    </tr>\n",
       "    <tr>\n",
       "      <th>34</th>\n",
       "      <td>11.0</td>\n",
       "      <td>2.0</td>\n",
       "      <td>Not Hispanic</td>\n",
       "      <td>White</td>\n",
       "      <td>1.0</td>\n",
       "      <td>Divorced</td>\n",
       "      <td>Not in labor force</td>\n",
       "      <td>0.0</td>\n",
       "      <td>Retired, disabled</td>\n",
       "      <td>Private Residence</td>\n",
       "      <td>2.019000e+10</td>\n",
       "    </tr>\n",
       "    <tr>\n",
       "      <th>36</th>\n",
       "      <td>11.0</td>\n",
       "      <td>3.0</td>\n",
       "      <td>Not Hispanic</td>\n",
       "      <td>White</td>\n",
       "      <td>0.0</td>\n",
       "      <td>Now married</td>\n",
       "      <td>Not in labor force</td>\n",
       "      <td>0.0</td>\n",
       "      <td>Retired, disabled</td>\n",
       "      <td>Private Residence</td>\n",
       "      <td>2.019000e+10</td>\n",
       "    </tr>\n",
       "    <tr>\n",
       "      <th>38</th>\n",
       "      <td>9.0</td>\n",
       "      <td>4.0</td>\n",
       "      <td>Not Hispanic</td>\n",
       "      <td>Black or African American</td>\n",
       "      <td>1.0</td>\n",
       "      <td>Divorced</td>\n",
       "      <td>Not in labor force</td>\n",
       "      <td>0.0</td>\n",
       "      <td>Retired, disabled</td>\n",
       "      <td>Private Residence</td>\n",
       "      <td>2.019000e+10</td>\n",
       "    </tr>\n",
       "  </tbody>\n",
       "</table>\n",
       "</div>"
      ],
      "text/plain": [
       "     AGE  EDUC        ETHNIC                       RACE  GENDER  \\\n",
       "28   3.0   3.0  Not Hispanic                      White     0.0   \n",
       "32  10.0   3.0  Not Hispanic                      White     1.0   \n",
       "34  11.0   2.0  Not Hispanic                      White     1.0   \n",
       "36  11.0   3.0  Not Hispanic                      White     0.0   \n",
       "38   9.0   4.0  Not Hispanic  Black or African American     1.0   \n",
       "\n",
       "          MARSTAT              EMPLOY  VETERAN             DETNLF  \\\n",
       "28  Never married  Not in labor force      0.0            Student   \n",
       "32       Divorced  Not in labor force      0.0  Retired, disabled   \n",
       "34       Divorced  Not in labor force      0.0  Retired, disabled   \n",
       "36    Now married  Not in labor force      0.0  Retired, disabled   \n",
       "38       Divorced  Not in labor force      0.0  Retired, disabled   \n",
       "\n",
       "              LIVARAG        CASEID  \n",
       "28  Private Residence  2.019000e+10  \n",
       "32  Private Residence  2.019000e+10  \n",
       "34  Private Residence  2.019000e+10  \n",
       "36  Private Residence  2.019000e+10  \n",
       "38  Private Residence  2.019000e+10  "
      ]
     },
     "execution_count": 19,
     "metadata": {},
     "output_type": "execute_result"
    }
   ],
   "source": [
    "# Check that the values were renamed for each column\n",
    "demo_clean.head()"
   ]
  },
  {
   "cell_type": "code",
   "execution_count": 20,
   "metadata": {},
   "outputs": [],
   "source": [
    "# Rename ambiguous columns\n",
    "\n",
    "demo_clean.rename(columns={'EDUC': 'Education', 'MARSTAT': 'Marital Status', 'DETNLF': 'Not in Labor Force', \n",
    "                           'LIVARAG': 'Residential Status'},\n",
    "                             inplace=True)"
   ]
  },
  {
   "cell_type": "code",
   "execution_count": 21,
   "metadata": {},
   "outputs": [
    {
     "data": {
      "text/plain": [
       "AGE                   0\n",
       "Education             0\n",
       "ETHNIC                0\n",
       "RACE                  0\n",
       "GENDER                0\n",
       "Marital Status        0\n",
       "EMPLOY                0\n",
       "VETERAN               0\n",
       "Not in Labor Force    0\n",
       "Residential Status    0\n",
       "CASEID                0\n",
       "dtype: int64"
      ]
     },
     "execution_count": 21,
     "metadata": {},
     "output_type": "execute_result"
    }
   ],
   "source": [
    "# Check for missing values of the cleaned dataframe\n",
    "demo_clean.isna().sum()"
   ]
  },
  {
   "cell_type": "code",
   "execution_count": 22,
   "metadata": {},
   "outputs": [
    {
     "name": "stdout",
     "output_type": "stream",
     "text": [
      "<class 'pandas.core.frame.DataFrame'>\n",
      "Int64Index: 27959 entries, 28 to 114253\n",
      "Data columns (total 11 columns):\n",
      " #   Column              Non-Null Count  Dtype  \n",
      "---  ------              --------------  -----  \n",
      " 0   AGE                 27959 non-null  float64\n",
      " 1   Education           27959 non-null  float64\n",
      " 2   ETHNIC              27959 non-null  object \n",
      " 3   RACE                27959 non-null  object \n",
      " 4   GENDER              27959 non-null  float64\n",
      " 5   Marital Status      27959 non-null  object \n",
      " 6   EMPLOY              27959 non-null  object \n",
      " 7   VETERAN             27959 non-null  float64\n",
      " 8   Not in Labor Force  27959 non-null  object \n",
      " 9   Residential Status  27959 non-null  object \n",
      " 10  CASEID              27959 non-null  float64\n",
      "dtypes: float64(5), object(6)\n",
      "memory usage: 2.6+ MB\n"
     ]
    }
   ],
   "source": [
    "demo_clean.info()"
   ]
  },
  {
   "cell_type": "code",
   "execution_count": 23,
   "metadata": {},
   "outputs": [],
   "source": [
    "# Converting AGE, EEducation, and VETERAN columns to int type\n",
    "\n",
    "convert_cols = ['AGE', 'Education', 'VETERAN']\n",
    "\n",
    "for col in convert_cols:\n",
    "    demo_clean[col] = demo_clean[col].astype('int64')"
   ]
  },
  {
   "cell_type": "code",
   "execution_count": 24,
   "metadata": {},
   "outputs": [
    {
     "name": "stdout",
     "output_type": "stream",
     "text": [
      "<class 'pandas.core.frame.DataFrame'>\n",
      "Int64Index: 27959 entries, 28 to 114253\n",
      "Data columns (total 11 columns):\n",
      " #   Column              Non-Null Count  Dtype  \n",
      "---  ------              --------------  -----  \n",
      " 0   AGE                 27959 non-null  int64  \n",
      " 1   Education           27959 non-null  int64  \n",
      " 2   ETHNIC              27959 non-null  object \n",
      " 3   RACE                27959 non-null  object \n",
      " 4   GENDER              27959 non-null  float64\n",
      " 5   Marital Status      27959 non-null  object \n",
      " 6   EMPLOY              27959 non-null  object \n",
      " 7   VETERAN             27959 non-null  int64  \n",
      " 8   Not in Labor Force  27959 non-null  object \n",
      " 9   Residential Status  27959 non-null  object \n",
      " 10  CASEID              27959 non-null  float64\n",
      "dtypes: float64(2), int64(3), object(6)\n",
      "memory usage: 2.6+ MB\n"
     ]
    }
   ],
   "source": [
    "demo_clean.info()"
   ]
  },
  {
   "cell_type": "code",
   "execution_count": 25,
   "metadata": {},
   "outputs": [],
   "source": [
    "# Remove the CASEID column\n",
    "demo_clean.drop(columns=['CASEID'], inplace=True)"
   ]
  },
  {
   "cell_type": "code",
   "execution_count": 26,
   "metadata": {},
   "outputs": [
    {
     "data": {
      "text/plain": [
       "Index(['AGE', 'Education', 'ETHNIC', 'RACE', 'GENDER', 'Marital Status',\n",
       "       'EMPLOY', 'VETERAN', 'Not in Labor Force', 'Residential Status'],\n",
       "      dtype='object')"
      ]
     },
     "execution_count": 26,
     "metadata": {},
     "output_type": "execute_result"
    }
   ],
   "source": [
    "demo_clean.columns"
   ]
  },
  {
   "cell_type": "code",
   "execution_count": 27,
   "metadata": {},
   "outputs": [
    {
     "data": {
      "text/plain": [
       "(27959, 10)"
      ]
     },
     "execution_count": 27,
     "metadata": {},
     "output_type": "execute_result"
    }
   ],
   "source": [
    "demo_clean.shape"
   ]
  },
  {
   "cell_type": "code",
   "execution_count": 28,
   "metadata": {},
   "outputs": [
    {
     "data": {
      "text/html": [
       "<div>\n",
       "<style scoped>\n",
       "    .dataframe tbody tr th:only-of-type {\n",
       "        vertical-align: middle;\n",
       "    }\n",
       "\n",
       "    .dataframe tbody tr th {\n",
       "        vertical-align: top;\n",
       "    }\n",
       "\n",
       "    .dataframe thead th {\n",
       "        text-align: right;\n",
       "    }\n",
       "</style>\n",
       "<table border=\"1\" class=\"dataframe\">\n",
       "  <thead>\n",
       "    <tr style=\"text-align: right;\">\n",
       "      <th></th>\n",
       "      <th>AGE</th>\n",
       "      <th>Education</th>\n",
       "      <th>ETHNIC</th>\n",
       "      <th>RACE</th>\n",
       "      <th>GENDER</th>\n",
       "      <th>Marital Status</th>\n",
       "      <th>EMPLOY</th>\n",
       "      <th>VETERAN</th>\n",
       "      <th>Not in Labor Force</th>\n",
       "      <th>Residential Status</th>\n",
       "    </tr>\n",
       "  </thead>\n",
       "  <tbody>\n",
       "    <tr>\n",
       "      <th>0</th>\n",
       "      <td>3</td>\n",
       "      <td>3</td>\n",
       "      <td>Not Hispanic</td>\n",
       "      <td>White</td>\n",
       "      <td>0.0</td>\n",
       "      <td>Never married</td>\n",
       "      <td>Not in labor force</td>\n",
       "      <td>0</td>\n",
       "      <td>Student</td>\n",
       "      <td>Private Residence</td>\n",
       "    </tr>\n",
       "    <tr>\n",
       "      <th>1</th>\n",
       "      <td>10</td>\n",
       "      <td>3</td>\n",
       "      <td>Not Hispanic</td>\n",
       "      <td>White</td>\n",
       "      <td>1.0</td>\n",
       "      <td>Divorced</td>\n",
       "      <td>Not in labor force</td>\n",
       "      <td>0</td>\n",
       "      <td>Retired, disabled</td>\n",
       "      <td>Private Residence</td>\n",
       "    </tr>\n",
       "    <tr>\n",
       "      <th>2</th>\n",
       "      <td>11</td>\n",
       "      <td>2</td>\n",
       "      <td>Not Hispanic</td>\n",
       "      <td>White</td>\n",
       "      <td>1.0</td>\n",
       "      <td>Divorced</td>\n",
       "      <td>Not in labor force</td>\n",
       "      <td>0</td>\n",
       "      <td>Retired, disabled</td>\n",
       "      <td>Private Residence</td>\n",
       "    </tr>\n",
       "    <tr>\n",
       "      <th>3</th>\n",
       "      <td>11</td>\n",
       "      <td>3</td>\n",
       "      <td>Not Hispanic</td>\n",
       "      <td>White</td>\n",
       "      <td>0.0</td>\n",
       "      <td>Now married</td>\n",
       "      <td>Not in labor force</td>\n",
       "      <td>0</td>\n",
       "      <td>Retired, disabled</td>\n",
       "      <td>Private Residence</td>\n",
       "    </tr>\n",
       "    <tr>\n",
       "      <th>4</th>\n",
       "      <td>9</td>\n",
       "      <td>4</td>\n",
       "      <td>Not Hispanic</td>\n",
       "      <td>Black or African American</td>\n",
       "      <td>1.0</td>\n",
       "      <td>Divorced</td>\n",
       "      <td>Not in labor force</td>\n",
       "      <td>0</td>\n",
       "      <td>Retired, disabled</td>\n",
       "      <td>Private Residence</td>\n",
       "    </tr>\n",
       "  </tbody>\n",
       "</table>\n",
       "</div>"
      ],
      "text/plain": [
       "   AGE  Education        ETHNIC                       RACE  GENDER  \\\n",
       "0    3          3  Not Hispanic                      White     0.0   \n",
       "1   10          3  Not Hispanic                      White     1.0   \n",
       "2   11          2  Not Hispanic                      White     1.0   \n",
       "3   11          3  Not Hispanic                      White     0.0   \n",
       "4    9          4  Not Hispanic  Black or African American     1.0   \n",
       "\n",
       "  Marital Status              EMPLOY  VETERAN Not in Labor Force  \\\n",
       "0  Never married  Not in labor force        0            Student   \n",
       "1       Divorced  Not in labor force        0  Retired, disabled   \n",
       "2       Divorced  Not in labor force        0  Retired, disabled   \n",
       "3    Now married  Not in labor force        0  Retired, disabled   \n",
       "4       Divorced  Not in labor force        0  Retired, disabled   \n",
       "\n",
       "  Residential Status  \n",
       "0  Private Residence  \n",
       "1  Private Residence  \n",
       "2  Private Residence  \n",
       "3  Private Residence  \n",
       "4  Private Residence  "
      ]
     },
     "execution_count": 28,
     "metadata": {},
     "output_type": "execute_result"
    }
   ],
   "source": [
    "# Re-index dataset\n",
    "demo_clean.index = np.arange(0, len(demo_clean))\n",
    "\n",
    "demo_clean.head()"
   ]
  },
  {
   "cell_type": "markdown",
   "metadata": {},
   "source": [
    "# Analyzing/Cleaning Mental Health Diagnosis Reports"
   ]
  },
  {
   "cell_type": "code",
   "execution_count": 32,
   "metadata": {},
   "outputs": [
    {
     "data": {
      "text/html": [
       "<div>\n",
       "<style scoped>\n",
       "    .dataframe tbody tr th:only-of-type {\n",
       "        vertical-align: middle;\n",
       "    }\n",
       "\n",
       "    .dataframe tbody tr th {\n",
       "        vertical-align: top;\n",
       "    }\n",
       "\n",
       "    .dataframe thead th {\n",
       "        text-align: right;\n",
       "    }\n",
       "</style>\n",
       "<table border=\"1\" class=\"dataframe\">\n",
       "  <thead>\n",
       "    <tr style=\"text-align: right;\">\n",
       "      <th></th>\n",
       "      <th>MH1</th>\n",
       "      <th>MH2</th>\n",
       "      <th>MH3</th>\n",
       "      <th>SUB</th>\n",
       "      <th>SMISED</th>\n",
       "      <th>SAP</th>\n",
       "      <th>CASEID</th>\n",
       "    </tr>\n",
       "  </thead>\n",
       "  <tbody>\n",
       "    <tr>\n",
       "      <th>0</th>\n",
       "      <td>13.0</td>\n",
       "      <td>NaN</td>\n",
       "      <td>NaN</td>\n",
       "      <td>NaN</td>\n",
       "      <td>NaN</td>\n",
       "      <td>0.0</td>\n",
       "      <td>2.019000e+10</td>\n",
       "    </tr>\n",
       "    <tr>\n",
       "      <th>1</th>\n",
       "      <td>7.0</td>\n",
       "      <td>NaN</td>\n",
       "      <td>NaN</td>\n",
       "      <td>NaN</td>\n",
       "      <td>1.0</td>\n",
       "      <td>0.0</td>\n",
       "      <td>2.019000e+10</td>\n",
       "    </tr>\n",
       "    <tr>\n",
       "      <th>2</th>\n",
       "      <td>11.0</td>\n",
       "      <td>NaN</td>\n",
       "      <td>NaN</td>\n",
       "      <td>NaN</td>\n",
       "      <td>NaN</td>\n",
       "      <td>0.0</td>\n",
       "      <td>2.019000e+10</td>\n",
       "    </tr>\n",
       "    <tr>\n",
       "      <th>3</th>\n",
       "      <td>11.0</td>\n",
       "      <td>NaN</td>\n",
       "      <td>NaN</td>\n",
       "      <td>NaN</td>\n",
       "      <td>1.0</td>\n",
       "      <td>0.0</td>\n",
       "      <td>2.019000e+10</td>\n",
       "    </tr>\n",
       "    <tr>\n",
       "      <th>4</th>\n",
       "      <td>1.0</td>\n",
       "      <td>NaN</td>\n",
       "      <td>NaN</td>\n",
       "      <td>NaN</td>\n",
       "      <td>2.0</td>\n",
       "      <td>0.0</td>\n",
       "      <td>2.019000e+10</td>\n",
       "    </tr>\n",
       "  </tbody>\n",
       "</table>\n",
       "</div>"
      ],
      "text/plain": [
       "    MH1  MH2  MH3  SUB  SMISED  SAP        CASEID\n",
       "0  13.0  NaN  NaN  NaN     NaN  0.0  2.019000e+10\n",
       "1   7.0  NaN  NaN  NaN     1.0  0.0  2.019000e+10\n",
       "2  11.0  NaN  NaN  NaN     NaN  0.0  2.019000e+10\n",
       "3  11.0  NaN  NaN  NaN     1.0  0.0  2.019000e+10\n",
       "4   1.0  NaN  NaN  NaN     2.0  0.0  2.019000e+10"
      ]
     },
     "execution_count": 32,
     "metadata": {},
     "output_type": "execute_result"
    }
   ],
   "source": [
    "# Replacing -9 values with nan\n",
    "mh_diagnosis_kind_df = mh_diagnosis_kind_df.replace(-9, np.nan)\n",
    "\n",
    "# Subset the mental health diagnosis dataframe\n",
    "mh_subset_df = mh_diagnosis_kind_df[:100000]\n",
    "mh_subset_df = mh_subset_df.append(mh_diagnosis_kind_df[100000:200000].where(behavioral_df['DEPRESSFLG'] == 1))\n",
    "mh_subset_df.head()"
   ]
  },
  {
   "cell_type": "code",
   "execution_count": 33,
   "metadata": {},
   "outputs": [
    {
     "data": {
      "text/plain": [
       "MH1        74267\n",
       "MH2       173811\n",
       "MH3       194651\n",
       "SUB       187962\n",
       "SMISED     81374\n",
       "SAP        74115\n",
       "CASEID     74064\n",
       "dtype: int64"
      ]
     },
     "execution_count": 33,
     "metadata": {},
     "output_type": "execute_result"
    }
   ],
   "source": [
    "# Look at missing value counts for all columns\n",
    "mh_subset_df.isna().sum()"
   ]
  },
  {
   "cell_type": "code",
   "execution_count": 34,
   "metadata": {},
   "outputs": [],
   "source": [
    "# The columns MH2 and MH3 for the second and third respective diagnosis reports are high in missing values. \n",
    "# The column SUB for substance abuse reports is also unnecessary to keep\n",
    "\n",
    "mh_subset_df = mh_subset_df.drop(columns=['MH2', 'MH3', 'SUB'])"
   ]
  },
  {
   "cell_type": "code",
   "execution_count": 35,
   "metadata": {},
   "outputs": [
    {
     "name": "stdout",
     "output_type": "stream",
     "text": [
      "MH1 value counts \n",
      "\n"
     ]
    },
    {
     "data": {
      "text/plain": [
       "NaN     74267\n",
       "7.0     63760\n",
       "11.0    14922\n",
       "3.0     10513\n",
       "6.0     10412\n",
       "13.0     9297\n",
       "1.0      7061\n",
       "2.0      5791\n",
       "8.0      1573\n",
       "4.0       960\n",
       "9.0       564\n",
       "10.0      348\n",
       "5.0       288\n",
       "12.0      244\n",
       "Name: MH1, dtype: int64"
      ]
     },
     "metadata": {},
     "output_type": "display_data"
    },
    {
     "name": "stdout",
     "output_type": "stream",
     "text": [
      "-------------------------------------------\n",
      "SMISED value counts \n",
      "\n"
     ]
    },
    {
     "data": {
      "text/plain": [
       "NaN    81374\n",
       "1.0    66258\n",
       "2.0    34885\n",
       "3.0    17483\n",
       "Name: SMISED, dtype: int64"
      ]
     },
     "metadata": {},
     "output_type": "display_data"
    },
    {
     "name": "stdout",
     "output_type": "stream",
     "text": [
      "-------------------------------------------\n",
      "SAP value counts \n",
      "\n"
     ]
    },
    {
     "data": {
      "text/plain": [
       "0.0    110790\n",
       "NaN     74115\n",
       "1.0     15095\n",
       "Name: SAP, dtype: int64"
      ]
     },
     "metadata": {},
     "output_type": "display_data"
    },
    {
     "name": "stdout",
     "output_type": "stream",
     "text": [
      "-------------------------------------------\n",
      "CASEID value counts \n",
      "\n"
     ]
    },
    {
     "data": {
      "text/plain": [
       "NaN             74064\n",
       "2.019000e+10        1\n",
       "2.019008e+10        1\n",
       "2.019008e+10        1\n",
       "2.019008e+10        1\n",
       "                ...  \n",
       "2.019004e+10        1\n",
       "2.019004e+10        1\n",
       "2.019004e+10        1\n",
       "2.019004e+10        1\n",
       "2.019020e+10        1\n",
       "Name: CASEID, Length: 125937, dtype: int64"
      ]
     },
     "metadata": {},
     "output_type": "display_data"
    },
    {
     "name": "stdout",
     "output_type": "stream",
     "text": [
      "-------------------------------------------\n"
     ]
    }
   ],
   "source": [
    "# Observe value counts for each column/analyze missing value distributions\n",
    "\n",
    "for col in mh_subset_df.columns:\n",
    "    print(f'{col} value counts', '\\n')\n",
    "    display(mh_subset_df[col].value_counts(dropna=False))\n",
    "    print('-------------------------------------------')"
   ]
  },
  {
   "cell_type": "markdown",
   "metadata": {},
   "source": [
    "Quick observations: \n",
    "- The value 7.0 of the MH1 column represents the number of depressive disorder diagnoses for the first instance of diagnosis for a patient. Note, this value has the highest count out of all mental illness types\n",
    "- The value 2.0 of the MH2 column represents the number of anxiety disorder diagnoses for the second instance of a diagnosis for a given patient. This value appears the most out of all other mental illness second diagnosis types (anxiety count > depression count) -> comorbidity"
   ]
  },
  {
   "cell_type": "code",
   "execution_count": 36,
   "metadata": {},
   "outputs": [],
   "source": [
    "# Drop missing values across remaining columns\n",
    "\n",
    "mh_subset_df.dropna(subset=['MH1', 'SMISED', 'SAP'], inplace=True)"
   ]
  },
  {
   "cell_type": "code",
   "execution_count": 37,
   "metadata": {},
   "outputs": [
    {
     "data": {
      "text/html": [
       "<div>\n",
       "<style scoped>\n",
       "    .dataframe tbody tr th:only-of-type {\n",
       "        vertical-align: middle;\n",
       "    }\n",
       "\n",
       "    .dataframe tbody tr th {\n",
       "        vertical-align: top;\n",
       "    }\n",
       "\n",
       "    .dataframe thead th {\n",
       "        text-align: right;\n",
       "    }\n",
       "</style>\n",
       "<table border=\"1\" class=\"dataframe\">\n",
       "  <thead>\n",
       "    <tr style=\"text-align: right;\">\n",
       "      <th></th>\n",
       "      <th>MH1</th>\n",
       "      <th>SMISED</th>\n",
       "      <th>SAP</th>\n",
       "      <th>CASEID</th>\n",
       "    </tr>\n",
       "  </thead>\n",
       "  <tbody>\n",
       "    <tr>\n",
       "      <th>1</th>\n",
       "      <td>7.0</td>\n",
       "      <td>1.0</td>\n",
       "      <td>0.0</td>\n",
       "      <td>2.019000e+10</td>\n",
       "    </tr>\n",
       "    <tr>\n",
       "      <th>3</th>\n",
       "      <td>11.0</td>\n",
       "      <td>1.0</td>\n",
       "      <td>0.0</td>\n",
       "      <td>2.019000e+10</td>\n",
       "    </tr>\n",
       "    <tr>\n",
       "      <th>4</th>\n",
       "      <td>1.0</td>\n",
       "      <td>2.0</td>\n",
       "      <td>0.0</td>\n",
       "      <td>2.019000e+10</td>\n",
       "    </tr>\n",
       "    <tr>\n",
       "      <th>5</th>\n",
       "      <td>1.0</td>\n",
       "      <td>1.0</td>\n",
       "      <td>1.0</td>\n",
       "      <td>2.019000e+10</td>\n",
       "    </tr>\n",
       "    <tr>\n",
       "      <th>6</th>\n",
       "      <td>13.0</td>\n",
       "      <td>2.0</td>\n",
       "      <td>0.0</td>\n",
       "      <td>2.019000e+10</td>\n",
       "    </tr>\n",
       "  </tbody>\n",
       "</table>\n",
       "</div>"
      ],
      "text/plain": [
       "    MH1  SMISED  SAP        CASEID\n",
       "1   7.0     1.0  0.0  2.019000e+10\n",
       "3  11.0     1.0  0.0  2.019000e+10\n",
       "4   1.0     2.0  0.0  2.019000e+10\n",
       "5   1.0     1.0  1.0  2.019000e+10\n",
       "6  13.0     2.0  0.0  2.019000e+10"
      ]
     },
     "execution_count": 37,
     "metadata": {},
     "output_type": "execute_result"
    }
   ],
   "source": [
    "mh_subset_df.head()"
   ]
  },
  {
   "cell_type": "markdown",
   "metadata": {},
   "source": [
    "- The MH1 column contains values accounting for the first diagnosis of various disorders when a client seeks mental health treatment for their first time"
   ]
  },
  {
   "cell_type": "code",
   "execution_count": 38,
   "metadata": {},
   "outputs": [],
   "source": [
    "# Rename the values of the MH1 column\n",
    "\n",
    "mh_subset_df['MH1'].replace({1:'Trauma Disorder', 2:'Anxiety disorders', 3:'ADHD', \n",
    "                            4:'Conduct disorders', 5:'Delirium, Dementia', 6:'Bipolar disorders',\n",
    "                            7:'Depressive Disorders', 8:'Oppositional Defiant Disorders', \n",
    "                            9:'Pervasive Developmental Disorders', 10:'Personality disorders', \n",
    "                             11:'Schizophrenia or other psychosis', 12:'Alcohol or substance abuse disorders', \n",
    "                             13:'Other disorders'}, inplace=True)"
   ]
  },
  {
   "cell_type": "code",
   "execution_count": 39,
   "metadata": {},
   "outputs": [],
   "source": [
    "# Rename the values of the SMISED column\n",
    "mh_subset_df['SMISED'].replace({1:'Serious Mental Illness', 2:'Serious Emotional Disorder', 3:'Not serious'}, inplace=True)"
   ]
  },
  {
   "cell_type": "code",
   "execution_count": 40,
   "metadata": {},
   "outputs": [],
   "source": [
    "# Rename value of SAP (Substance Abuse Problem) column\n",
    "mh_subset_df['SAP'].replace({2: 0}, inplace=True)"
   ]
  },
  {
   "cell_type": "code",
   "execution_count": 41,
   "metadata": {},
   "outputs": [
    {
     "name": "stdout",
     "output_type": "stream",
     "text": [
      "MH1 value counts \n",
      "\n"
     ]
    },
    {
     "data": {
      "text/plain": [
       "Depressive Disorders                    60559\n",
       "Schizophrenia or other psychosis        14016\n",
       "ADHD                                    10112\n",
       "Bipolar disorders                        9433\n",
       "Other disorders                          8758\n",
       "Trauma Disorder                          6529\n",
       "Anxiety disorders                        5207\n",
       "Oppositional Defiant Disorders           1517\n",
       "Conduct disorders                         927\n",
       "Pervasive Developmental Disorders         526\n",
       "Personality disorders                     334\n",
       "Delirium, Dementia                        261\n",
       "Alcohol or substance abuse disorders      240\n",
       "Name: MH1, dtype: int64"
      ]
     },
     "metadata": {},
     "output_type": "display_data"
    },
    {
     "name": "stdout",
     "output_type": "stream",
     "text": [
      "-------------------------------------------\n",
      "SMISED value counts \n",
      "\n"
     ]
    },
    {
     "data": {
      "text/plain": [
       "Serious Mental Illness        66150\n",
       "Serious Emotional Disorder    34856\n",
       "Not serious                   17413\n",
       "Name: SMISED, dtype: int64"
      ]
     },
     "metadata": {},
     "output_type": "display_data"
    },
    {
     "name": "stdout",
     "output_type": "stream",
     "text": [
      "-------------------------------------------\n",
      "SAP value counts \n",
      "\n"
     ]
    },
    {
     "data": {
      "text/plain": [
       "0.0    104641\n",
       "1.0     13778\n",
       "Name: SAP, dtype: int64"
      ]
     },
     "metadata": {},
     "output_type": "display_data"
    },
    {
     "name": "stdout",
     "output_type": "stream",
     "text": [
      "-------------------------------------------\n",
      "CASEID value counts \n",
      "\n"
     ]
    },
    {
     "data": {
      "text/plain": [
       "2.019000e+10    1\n",
       "2.019009e+10    1\n",
       "2.019009e+10    1\n",
       "2.019009e+10    1\n",
       "2.019009e+10    1\n",
       "               ..\n",
       "2.019004e+10    1\n",
       "2.019004e+10    1\n",
       "2.019004e+10    1\n",
       "2.019004e+10    1\n",
       "2.019020e+10    1\n",
       "Name: CASEID, Length: 118419, dtype: int64"
      ]
     },
     "metadata": {},
     "output_type": "display_data"
    },
    {
     "name": "stdout",
     "output_type": "stream",
     "text": [
      "-------------------------------------------\n"
     ]
    }
   ],
   "source": [
    "# Look at value counts\n",
    "\n",
    "for col in mh_subset_df.columns:\n",
    "    print(f'{col} value counts', '\\n')\n",
    "    display(mh_subset_df[col].value_counts(dropna=False))\n",
    "    print('-------------------------------------------')"
   ]
  },
  {
   "cell_type": "markdown",
   "metadata": {},
   "source": [
    "- MH1 contains values accounting for depressive disorder cases of the patient population. Since these values directly address client depression, we remove these and instead add a column from the reported_subset_df which reports depression to serve as our target variable\n",
    "- To avoid data imbalance issues, we select class 1 points in such a way that the target variable reaches a healthy equilibrium of data for each class "
   ]
  },
  {
   "cell_type": "code",
   "execution_count": 46,
   "metadata": {},
   "outputs": [
    {
     "data": {
      "text/html": [
       "<div>\n",
       "<style scoped>\n",
       "    .dataframe tbody tr th:only-of-type {\n",
       "        vertical-align: middle;\n",
       "    }\n",
       "\n",
       "    .dataframe tbody tr th {\n",
       "        vertical-align: top;\n",
       "    }\n",
       "\n",
       "    .dataframe thead th {\n",
       "        text-align: right;\n",
       "    }\n",
       "</style>\n",
       "<table border=\"1\" class=\"dataframe\">\n",
       "  <thead>\n",
       "    <tr style=\"text-align: right;\">\n",
       "      <th></th>\n",
       "      <th>ANXIETYFLG</th>\n",
       "      <th>ADHDFLG</th>\n",
       "      <th>BIPOLARFLG</th>\n",
       "      <th>SCHIZOFLG</th>\n",
       "      <th>TRAUSTREFLG</th>\n",
       "      <th>CONDUCTFLG</th>\n",
       "      <th>DELIRDEMFLG</th>\n",
       "      <th>ODDFLG</th>\n",
       "      <th>PDDFLG</th>\n",
       "      <th>PERSONFLG</th>\n",
       "      <th>ALCSUBFLG</th>\n",
       "      <th>DEPRESSFLG</th>\n",
       "      <th>CASEID</th>\n",
       "    </tr>\n",
       "  </thead>\n",
       "  <tbody>\n",
       "    <tr>\n",
       "      <th>0</th>\n",
       "      <td>0.0</td>\n",
       "      <td>0.0</td>\n",
       "      <td>0.0</td>\n",
       "      <td>0.0</td>\n",
       "      <td>0.0</td>\n",
       "      <td>0.0</td>\n",
       "      <td>0.0</td>\n",
       "      <td>0.0</td>\n",
       "      <td>0.0</td>\n",
       "      <td>0.0</td>\n",
       "      <td>0.0</td>\n",
       "      <td>0.0</td>\n",
       "      <td>2.019000e+10</td>\n",
       "    </tr>\n",
       "    <tr>\n",
       "      <th>1</th>\n",
       "      <td>0.0</td>\n",
       "      <td>0.0</td>\n",
       "      <td>0.0</td>\n",
       "      <td>0.0</td>\n",
       "      <td>0.0</td>\n",
       "      <td>0.0</td>\n",
       "      <td>0.0</td>\n",
       "      <td>0.0</td>\n",
       "      <td>0.0</td>\n",
       "      <td>0.0</td>\n",
       "      <td>0.0</td>\n",
       "      <td>1.0</td>\n",
       "      <td>2.019000e+10</td>\n",
       "    </tr>\n",
       "    <tr>\n",
       "      <th>2</th>\n",
       "      <td>0.0</td>\n",
       "      <td>0.0</td>\n",
       "      <td>0.0</td>\n",
       "      <td>1.0</td>\n",
       "      <td>0.0</td>\n",
       "      <td>0.0</td>\n",
       "      <td>0.0</td>\n",
       "      <td>0.0</td>\n",
       "      <td>0.0</td>\n",
       "      <td>0.0</td>\n",
       "      <td>0.0</td>\n",
       "      <td>0.0</td>\n",
       "      <td>2.019000e+10</td>\n",
       "    </tr>\n",
       "    <tr>\n",
       "      <th>3</th>\n",
       "      <td>0.0</td>\n",
       "      <td>0.0</td>\n",
       "      <td>0.0</td>\n",
       "      <td>1.0</td>\n",
       "      <td>0.0</td>\n",
       "      <td>0.0</td>\n",
       "      <td>0.0</td>\n",
       "      <td>0.0</td>\n",
       "      <td>0.0</td>\n",
       "      <td>0.0</td>\n",
       "      <td>0.0</td>\n",
       "      <td>0.0</td>\n",
       "      <td>2.019000e+10</td>\n",
       "    </tr>\n",
       "    <tr>\n",
       "      <th>4</th>\n",
       "      <td>0.0</td>\n",
       "      <td>0.0</td>\n",
       "      <td>0.0</td>\n",
       "      <td>0.0</td>\n",
       "      <td>1.0</td>\n",
       "      <td>0.0</td>\n",
       "      <td>0.0</td>\n",
       "      <td>0.0</td>\n",
       "      <td>0.0</td>\n",
       "      <td>0.0</td>\n",
       "      <td>0.0</td>\n",
       "      <td>0.0</td>\n",
       "      <td>2.019000e+10</td>\n",
       "    </tr>\n",
       "  </tbody>\n",
       "</table>\n",
       "</div>"
      ],
      "text/plain": [
       "   ANXIETYFLG  ADHDFLG  BIPOLARFLG  SCHIZOFLG  TRAUSTREFLG  CONDUCTFLG  \\\n",
       "0         0.0      0.0         0.0        0.0          0.0         0.0   \n",
       "1         0.0      0.0         0.0        0.0          0.0         0.0   \n",
       "2         0.0      0.0         0.0        1.0          0.0         0.0   \n",
       "3         0.0      0.0         0.0        1.0          0.0         0.0   \n",
       "4         0.0      0.0         0.0        0.0          1.0         0.0   \n",
       "\n",
       "   DELIRDEMFLG  ODDFLG  PDDFLG  PERSONFLG  ALCSUBFLG  DEPRESSFLG        CASEID  \n",
       "0          0.0     0.0     0.0        0.0        0.0         0.0  2.019000e+10  \n",
       "1          0.0     0.0     0.0        0.0        0.0         1.0  2.019000e+10  \n",
       "2          0.0     0.0     0.0        0.0        0.0         0.0  2.019000e+10  \n",
       "3          0.0     0.0     0.0        0.0        0.0         0.0  2.019000e+10  \n",
       "4          0.0     0.0     0.0        0.0        0.0         0.0  2.019000e+10  "
      ]
     },
     "execution_count": 46,
     "metadata": {},
     "output_type": "execute_result"
    }
   ],
   "source": [
    "reported_subset_df = reported_disorder_df[:100000]\n",
    "reported_subset_df = reported_subset_df.append(reported_disorder_df[100000:200000].where(reported_disorder_df['DEPRESSFLG'] == 1))\n",
    "reported_subset_df.head()"
   ]
  },
  {
   "cell_type": "code",
   "execution_count": 50,
   "metadata": {},
   "outputs": [],
   "source": [
    "reported_subset_df.rename(columns={'DEPRESSFLG':'Diagnosed Depression'}, inplace=True)"
   ]
  },
  {
   "cell_type": "code",
   "execution_count": 51,
   "metadata": {},
   "outputs": [
    {
     "data": {
      "text/plain": [
       "1.0    67692\n",
       "0.0    58244\n",
       "Name: Diagnosed Depression, dtype: int64"
      ]
     },
     "execution_count": 51,
     "metadata": {},
     "output_type": "execute_result"
    }
   ],
   "source": [
    "reported_subset_df['Diagnosed Depression'].value_counts()"
   ]
  },
  {
   "cell_type": "code",
   "execution_count": 52,
   "metadata": {},
   "outputs": [
    {
     "data": {
      "text/plain": [
       "ANXIETYFLG              74064\n",
       "ADHDFLG                 74064\n",
       "BIPOLARFLG              74064\n",
       "SCHIZOFLG               74064\n",
       "TRAUSTREFLG             74064\n",
       "CONDUCTFLG              74064\n",
       "DELIRDEMFLG             74064\n",
       "ODDFLG                  74064\n",
       "PDDFLG                  74064\n",
       "PERSONFLG               74064\n",
       "ALCSUBFLG               74064\n",
       "Diagnosed Depression    74064\n",
       "CASEID                  74064\n",
       "dtype: int64"
      ]
     },
     "execution_count": 52,
     "metadata": {},
     "output_type": "execute_result"
    }
   ],
   "source": [
    "reported_subset_df.isna().sum()"
   ]
  },
  {
   "cell_type": "code",
   "execution_count": 53,
   "metadata": {},
   "outputs": [
    {
     "name": "stdout",
     "output_type": "stream",
     "text": [
      "ANXIETYFLG value counts \n",
      "\n"
     ]
    },
    {
     "data": {
      "text/plain": [
       "0.0    110020\n",
       "NaN     74064\n",
       "1.0     15916\n",
       "Name: ANXIETYFLG, dtype: int64"
      ]
     },
     "metadata": {},
     "output_type": "display_data"
    },
    {
     "name": "stdout",
     "output_type": "stream",
     "text": [
      "-------------------------------------------\n",
      "ADHDFLG value counts \n",
      "\n"
     ]
    },
    {
     "data": {
      "text/plain": [
       "0.0    112940\n",
       "NaN     74064\n",
       "1.0     12996\n",
       "Name: ADHDFLG, dtype: int64"
      ]
     },
     "metadata": {},
     "output_type": "display_data"
    },
    {
     "name": "stdout",
     "output_type": "stream",
     "text": [
      "-------------------------------------------\n",
      "BIPOLARFLG value counts \n",
      "\n"
     ]
    },
    {
     "data": {
      "text/plain": [
       "0.0    114895\n",
       "NaN     74064\n",
       "1.0     11041\n",
       "Name: BIPOLARFLG, dtype: int64"
      ]
     },
     "metadata": {},
     "output_type": "display_data"
    },
    {
     "name": "stdout",
     "output_type": "stream",
     "text": [
      "-------------------------------------------\n",
      "SCHIZOFLG value counts \n",
      "\n"
     ]
    },
    {
     "data": {
      "text/plain": [
       "0.0    110442\n",
       "NaN     74064\n",
       "1.0     15494\n",
       "Name: SCHIZOFLG, dtype: int64"
      ]
     },
     "metadata": {},
     "output_type": "display_data"
    },
    {
     "name": "stdout",
     "output_type": "stream",
     "text": [
      "-------------------------------------------\n",
      "TRAUSTREFLG value counts \n",
      "\n"
     ]
    },
    {
     "data": {
      "text/plain": [
       "0.0    113951\n",
       "NaN     74064\n",
       "1.0     11985\n",
       "Name: TRAUSTREFLG, dtype: int64"
      ]
     },
     "metadata": {},
     "output_type": "display_data"
    },
    {
     "name": "stdout",
     "output_type": "stream",
     "text": [
      "-------------------------------------------\n",
      "CONDUCTFLG value counts \n",
      "\n"
     ]
    },
    {
     "data": {
      "text/plain": [
       "0.0    124425\n",
       "NaN     74064\n",
       "1.0      1511\n",
       "Name: CONDUCTFLG, dtype: int64"
      ]
     },
     "metadata": {},
     "output_type": "display_data"
    },
    {
     "name": "stdout",
     "output_type": "stream",
     "text": [
      "-------------------------------------------\n",
      "DELIRDEMFLG value counts \n",
      "\n"
     ]
    },
    {
     "data": {
      "text/plain": [
       "0.0    125372\n",
       "NaN     74064\n",
       "1.0       564\n",
       "Name: DELIRDEMFLG, dtype: int64"
      ]
     },
     "metadata": {},
     "output_type": "display_data"
    },
    {
     "name": "stdout",
     "output_type": "stream",
     "text": [
      "-------------------------------------------\n",
      "ODDFLG value counts \n",
      "\n"
     ]
    },
    {
     "data": {
      "text/plain": [
       "0.0    122506\n",
       "NaN     74064\n",
       "1.0      3430\n",
       "Name: ODDFLG, dtype: int64"
      ]
     },
     "metadata": {},
     "output_type": "display_data"
    },
    {
     "name": "stdout",
     "output_type": "stream",
     "text": [
      "-------------------------------------------\n",
      "PDDFLG value counts \n",
      "\n"
     ]
    },
    {
     "data": {
      "text/plain": [
       "0.0    124596\n",
       "NaN     74064\n",
       "1.0      1340\n",
       "Name: PDDFLG, dtype: int64"
      ]
     },
     "metadata": {},
     "output_type": "display_data"
    },
    {
     "name": "stdout",
     "output_type": "stream",
     "text": [
      "-------------------------------------------\n",
      "PERSONFLG value counts \n",
      "\n"
     ]
    },
    {
     "data": {
      "text/plain": [
       "0.0    123678\n",
       "NaN     74064\n",
       "1.0      2258\n",
       "Name: PERSONFLG, dtype: int64"
      ]
     },
     "metadata": {},
     "output_type": "display_data"
    },
    {
     "name": "stdout",
     "output_type": "stream",
     "text": [
      "-------------------------------------------\n",
      "ALCSUBFLG value counts \n",
      "\n"
     ]
    },
    {
     "data": {
      "text/plain": [
       "0.0    125502\n",
       "NaN     74064\n",
       "1.0       434\n",
       "Name: ALCSUBFLG, dtype: int64"
      ]
     },
     "metadata": {},
     "output_type": "display_data"
    },
    {
     "name": "stdout",
     "output_type": "stream",
     "text": [
      "-------------------------------------------\n",
      "Diagnosed Depression value counts \n",
      "\n"
     ]
    },
    {
     "data": {
      "text/plain": [
       "NaN    74064\n",
       "1.0    67692\n",
       "0.0    58244\n",
       "Name: Diagnosed Depression, dtype: int64"
      ]
     },
     "metadata": {},
     "output_type": "display_data"
    },
    {
     "name": "stdout",
     "output_type": "stream",
     "text": [
      "-------------------------------------------\n",
      "CASEID value counts \n",
      "\n"
     ]
    },
    {
     "data": {
      "text/plain": [
       "NaN             74064\n",
       "2.019000e+10        1\n",
       "2.019008e+10        1\n",
       "2.019008e+10        1\n",
       "2.019008e+10        1\n",
       "                ...  \n",
       "2.019004e+10        1\n",
       "2.019004e+10        1\n",
       "2.019004e+10        1\n",
       "2.019004e+10        1\n",
       "2.019020e+10        1\n",
       "Name: CASEID, Length: 125937, dtype: int64"
      ]
     },
     "metadata": {},
     "output_type": "display_data"
    },
    {
     "name": "stdout",
     "output_type": "stream",
     "text": [
      "-------------------------------------------\n"
     ]
    }
   ],
   "source": [
    "# Look at value counts\n",
    "\n",
    "for col in reported_subset_df.columns:\n",
    "    print(f'{col} value counts', '\\n')\n",
    "    display(reported_subset_df[col].value_counts(dropna=False))\n",
    "    print('-------------------------------------------')"
   ]
  },
  {
   "cell_type": "code",
   "execution_count": 54,
   "metadata": {},
   "outputs": [
    {
     "data": {
      "text/plain": [
       "(200000, 13)"
      ]
     },
     "execution_count": 54,
     "metadata": {},
     "output_type": "execute_result"
    }
   ],
   "source": [
    "# Increased number of rows to append to increase chance of obtaining more class 1 points after data cleaning and preprocessing\n",
    "\n",
    "reported_subset_df.shape"
   ]
  },
  {
   "cell_type": "code",
   "execution_count": 56,
   "metadata": {},
   "outputs": [
    {
     "data": {
      "text/plain": [
       "(118419, 4)"
      ]
     },
     "execution_count": 56,
     "metadata": {},
     "output_type": "execute_result"
    }
   ],
   "source": [
    "mh_subset_df.shape"
   ]
  },
  {
   "cell_type": "code",
   "execution_count": 58,
   "metadata": {},
   "outputs": [
    {
     "data": {
      "text/plain": [
       "(125936, 13)"
      ]
     },
     "execution_count": 58,
     "metadata": {},
     "output_type": "execute_result"
    }
   ],
   "source": [
    "reported_subset_df = reported_subset_df.dropna()\n",
    "reported_subset_df.shape"
   ]
  },
  {
   "cell_type": "code",
   "execution_count": 59,
   "metadata": {},
   "outputs": [
    {
     "data": {
      "text/html": [
       "<div>\n",
       "<style scoped>\n",
       "    .dataframe tbody tr th:only-of-type {\n",
       "        vertical-align: middle;\n",
       "    }\n",
       "\n",
       "    .dataframe tbody tr th {\n",
       "        vertical-align: top;\n",
       "    }\n",
       "\n",
       "    .dataframe thead th {\n",
       "        text-align: right;\n",
       "    }\n",
       "</style>\n",
       "<table border=\"1\" class=\"dataframe\">\n",
       "  <thead>\n",
       "    <tr style=\"text-align: right;\">\n",
       "      <th></th>\n",
       "      <th>MH1</th>\n",
       "      <th>SMISED</th>\n",
       "      <th>SAP</th>\n",
       "      <th>CASEID</th>\n",
       "      <th>ANXIETYFLG</th>\n",
       "      <th>ADHDFLG</th>\n",
       "      <th>BIPOLARFLG</th>\n",
       "      <th>SCHIZOFLG</th>\n",
       "      <th>TRAUSTREFLG</th>\n",
       "      <th>CONDUCTFLG</th>\n",
       "      <th>DELIRDEMFLG</th>\n",
       "      <th>ODDFLG</th>\n",
       "      <th>PDDFLG</th>\n",
       "      <th>PERSONFLG</th>\n",
       "      <th>ALCSUBFLG</th>\n",
       "      <th>Diagnosed Depression</th>\n",
       "    </tr>\n",
       "  </thead>\n",
       "  <tbody>\n",
       "    <tr>\n",
       "      <th>0</th>\n",
       "      <td>Depressive Disorders</td>\n",
       "      <td>Serious Mental Illness</td>\n",
       "      <td>0.0</td>\n",
       "      <td>2.019000e+10</td>\n",
       "      <td>0.0</td>\n",
       "      <td>0.0</td>\n",
       "      <td>0.0</td>\n",
       "      <td>0.0</td>\n",
       "      <td>0.0</td>\n",
       "      <td>0.0</td>\n",
       "      <td>0.0</td>\n",
       "      <td>0.0</td>\n",
       "      <td>0.0</td>\n",
       "      <td>0.0</td>\n",
       "      <td>0.0</td>\n",
       "      <td>1.0</td>\n",
       "    </tr>\n",
       "    <tr>\n",
       "      <th>1</th>\n",
       "      <td>Schizophrenia or other psychosis</td>\n",
       "      <td>Serious Mental Illness</td>\n",
       "      <td>0.0</td>\n",
       "      <td>2.019000e+10</td>\n",
       "      <td>0.0</td>\n",
       "      <td>0.0</td>\n",
       "      <td>0.0</td>\n",
       "      <td>1.0</td>\n",
       "      <td>0.0</td>\n",
       "      <td>0.0</td>\n",
       "      <td>0.0</td>\n",
       "      <td>0.0</td>\n",
       "      <td>0.0</td>\n",
       "      <td>0.0</td>\n",
       "      <td>0.0</td>\n",
       "      <td>0.0</td>\n",
       "    </tr>\n",
       "    <tr>\n",
       "      <th>2</th>\n",
       "      <td>Trauma Disorder</td>\n",
       "      <td>Serious Emotional Disorder</td>\n",
       "      <td>0.0</td>\n",
       "      <td>2.019000e+10</td>\n",
       "      <td>0.0</td>\n",
       "      <td>0.0</td>\n",
       "      <td>0.0</td>\n",
       "      <td>0.0</td>\n",
       "      <td>1.0</td>\n",
       "      <td>0.0</td>\n",
       "      <td>0.0</td>\n",
       "      <td>0.0</td>\n",
       "      <td>0.0</td>\n",
       "      <td>0.0</td>\n",
       "      <td>0.0</td>\n",
       "      <td>0.0</td>\n",
       "    </tr>\n",
       "    <tr>\n",
       "      <th>3</th>\n",
       "      <td>Trauma Disorder</td>\n",
       "      <td>Serious Mental Illness</td>\n",
       "      <td>1.0</td>\n",
       "      <td>2.019000e+10</td>\n",
       "      <td>0.0</td>\n",
       "      <td>0.0</td>\n",
       "      <td>0.0</td>\n",
       "      <td>1.0</td>\n",
       "      <td>1.0</td>\n",
       "      <td>0.0</td>\n",
       "      <td>0.0</td>\n",
       "      <td>0.0</td>\n",
       "      <td>0.0</td>\n",
       "      <td>0.0</td>\n",
       "      <td>0.0</td>\n",
       "      <td>0.0</td>\n",
       "    </tr>\n",
       "    <tr>\n",
       "      <th>4</th>\n",
       "      <td>Other disorders</td>\n",
       "      <td>Serious Emotional Disorder</td>\n",
       "      <td>0.0</td>\n",
       "      <td>2.019000e+10</td>\n",
       "      <td>1.0</td>\n",
       "      <td>0.0</td>\n",
       "      <td>0.0</td>\n",
       "      <td>0.0</td>\n",
       "      <td>0.0</td>\n",
       "      <td>0.0</td>\n",
       "      <td>0.0</td>\n",
       "      <td>0.0</td>\n",
       "      <td>0.0</td>\n",
       "      <td>0.0</td>\n",
       "      <td>0.0</td>\n",
       "      <td>0.0</td>\n",
       "    </tr>\n",
       "  </tbody>\n",
       "</table>\n",
       "</div>"
      ],
      "text/plain": [
       "                                MH1                      SMISED  SAP  \\\n",
       "0              Depressive Disorders      Serious Mental Illness  0.0   \n",
       "1  Schizophrenia or other psychosis      Serious Mental Illness  0.0   \n",
       "2                   Trauma Disorder  Serious Emotional Disorder  0.0   \n",
       "3                   Trauma Disorder      Serious Mental Illness  1.0   \n",
       "4                   Other disorders  Serious Emotional Disorder  0.0   \n",
       "\n",
       "         CASEID  ANXIETYFLG  ADHDFLG  BIPOLARFLG  SCHIZOFLG  TRAUSTREFLG  \\\n",
       "0  2.019000e+10         0.0      0.0         0.0        0.0          0.0   \n",
       "1  2.019000e+10         0.0      0.0         0.0        1.0          0.0   \n",
       "2  2.019000e+10         0.0      0.0         0.0        0.0          1.0   \n",
       "3  2.019000e+10         0.0      0.0         0.0        1.0          1.0   \n",
       "4  2.019000e+10         1.0      0.0         0.0        0.0          0.0   \n",
       "\n",
       "   CONDUCTFLG  DELIRDEMFLG  ODDFLG  PDDFLG  PERSONFLG  ALCSUBFLG  \\\n",
       "0         0.0          0.0     0.0     0.0        0.0        0.0   \n",
       "1         0.0          0.0     0.0     0.0        0.0        0.0   \n",
       "2         0.0          0.0     0.0     0.0        0.0        0.0   \n",
       "3         0.0          0.0     0.0     0.0        0.0        0.0   \n",
       "4         0.0          0.0     0.0     0.0        0.0        0.0   \n",
       "\n",
       "   Diagnosed Depression  \n",
       "0                   1.0  \n",
       "1                   0.0  \n",
       "2                   0.0  \n",
       "3                   0.0  \n",
       "4                   0.0  "
      ]
     },
     "execution_count": 59,
     "metadata": {},
     "output_type": "execute_result"
    }
   ],
   "source": [
    "# Join the mh_subset_df and reported_subset_df to add the Target column to the mental illness diagnosis dataset\n",
    "mh_diagnosis_df = pd.merge(mh_subset_df, reported_subset_df, how='left', on='CASEID')\n",
    "mh_diagnosis_df.head()"
   ]
  },
  {
   "cell_type": "code",
   "execution_count": 60,
   "metadata": {},
   "outputs": [
    {
     "data": {
      "text/plain": [
       "(118419, 16)"
      ]
     },
     "execution_count": 60,
     "metadata": {},
     "output_type": "execute_result"
    }
   ],
   "source": [
    "mh_diagnosis_df.shape"
   ]
  },
  {
   "cell_type": "code",
   "execution_count": 61,
   "metadata": {},
   "outputs": [
    {
     "data": {
      "text/plain": [
       "1.0    64301\n",
       "0.0    54118\n",
       "Name: Diagnosed Depression, dtype: int64"
      ]
     },
     "execution_count": 61,
     "metadata": {},
     "output_type": "execute_result"
    }
   ],
   "source": [
    "mh_diagnosis_df['Diagnosed Depression'].value_counts()"
   ]
  },
  {
   "cell_type": "code",
   "execution_count": 62,
   "metadata": {},
   "outputs": [
    {
     "data": {
      "text/plain": [
       "Index(['MH1', 'SMISED', 'SAP', 'CASEID', 'ANXIETYFLG', 'ADHDFLG', 'BIPOLARFLG',\n",
       "       'SCHIZOFLG', 'TRAUSTREFLG', 'CONDUCTFLG', 'DELIRDEMFLG', 'ODDFLG',\n",
       "       'PDDFLG', 'PERSONFLG', 'ALCSUBFLG', 'Diagnosed Depression'],\n",
       "      dtype='object')"
      ]
     },
     "execution_count": 62,
     "metadata": {},
     "output_type": "execute_result"
    }
   ],
   "source": [
    "mh_diagnosis_df.columns"
   ]
  },
  {
   "cell_type": "code",
   "execution_count": 63,
   "metadata": {},
   "outputs": [
    {
     "data": {
      "text/plain": [
       "Index(['MH1', 'SMISED', 'SAP', 'CASEID', 'Diagnosed Depression'], dtype='object')"
      ]
     },
     "execution_count": 63,
     "metadata": {},
     "output_type": "execute_result"
    }
   ],
   "source": [
    "# Keep original mh_subset_df columns with additional Diagnosed Depression column to serve as target variable\n",
    "\n",
    "mh_diagnosis_df.drop(columns=['ANXIETYFLG', 'ADHDFLG', 'BIPOLARFLG', 'SCHIZOFLG', 'TRAUSTREFLG', 'CONDUCTFLG', \n",
    "                             'DELIRDEMFLG', 'ODDFLG', 'PDDFLG', 'PERSONFLG', 'ALCSUBFLG'], inplace=True)\n",
    "mh_diagnosis_df.columns"
   ]
  },
  {
   "cell_type": "code",
   "execution_count": 64,
   "metadata": {},
   "outputs": [
    {
     "name": "stdout",
     "output_type": "stream",
     "text": [
      "MH1 value counts \n",
      "\n"
     ]
    },
    {
     "data": {
      "text/plain": [
       "Depressive Disorders                    60559\n",
       "Schizophrenia or other psychosis        14016\n",
       "ADHD                                    10112\n",
       "Bipolar disorders                        9433\n",
       "Other disorders                          8758\n",
       "Trauma Disorder                          6529\n",
       "Anxiety disorders                        5207\n",
       "Oppositional Defiant Disorders           1517\n",
       "Conduct disorders                         927\n",
       "Pervasive Developmental Disorders         526\n",
       "Personality disorders                     334\n",
       "Delirium, Dementia                        261\n",
       "Alcohol or substance abuse disorders      240\n",
       "Name: MH1, dtype: int64"
      ]
     },
     "metadata": {},
     "output_type": "display_data"
    },
    {
     "name": "stdout",
     "output_type": "stream",
     "text": [
      "-------------------------------------------\n",
      "SMISED value counts \n",
      "\n"
     ]
    },
    {
     "data": {
      "text/plain": [
       "Serious Mental Illness        66150\n",
       "Serious Emotional Disorder    34856\n",
       "Not serious                   17413\n",
       "Name: SMISED, dtype: int64"
      ]
     },
     "metadata": {},
     "output_type": "display_data"
    },
    {
     "name": "stdout",
     "output_type": "stream",
     "text": [
      "-------------------------------------------\n",
      "SAP value counts \n",
      "\n"
     ]
    },
    {
     "data": {
      "text/plain": [
       "0.0    104641\n",
       "1.0     13778\n",
       "Name: SAP, dtype: int64"
      ]
     },
     "metadata": {},
     "output_type": "display_data"
    },
    {
     "name": "stdout",
     "output_type": "stream",
     "text": [
      "-------------------------------------------\n",
      "CASEID value counts \n",
      "\n"
     ]
    },
    {
     "data": {
      "text/plain": [
       "2.019000e+10    1\n",
       "2.019009e+10    1\n",
       "2.019009e+10    1\n",
       "2.019009e+10    1\n",
       "2.019009e+10    1\n",
       "               ..\n",
       "2.019004e+10    1\n",
       "2.019004e+10    1\n",
       "2.019004e+10    1\n",
       "2.019004e+10    1\n",
       "2.019020e+10    1\n",
       "Name: CASEID, Length: 118419, dtype: int64"
      ]
     },
     "metadata": {},
     "output_type": "display_data"
    },
    {
     "name": "stdout",
     "output_type": "stream",
     "text": [
      "-------------------------------------------\n",
      "Diagnosed Depression value counts \n",
      "\n"
     ]
    },
    {
     "data": {
      "text/plain": [
       "1.0    64301\n",
       "0.0    54118\n",
       "Name: Diagnosed Depression, dtype: int64"
      ]
     },
     "metadata": {},
     "output_type": "display_data"
    },
    {
     "name": "stdout",
     "output_type": "stream",
     "text": [
      "-------------------------------------------\n"
     ]
    }
   ],
   "source": [
    "# Checking values of dataframe\n",
    "\n",
    "for col in mh_diagnosis_df.columns:\n",
    "    print(f'{col} value counts', '\\n')\n",
    "    display(mh_diagnosis_df[col].value_counts(dropna=False))\n",
    "    print('-------------------------------------------')"
   ]
  },
  {
   "cell_type": "code",
   "execution_count": 65,
   "metadata": {},
   "outputs": [],
   "source": [
    "# Replace the 'Depressive Disorders' values in the MH1 column with 'Missing'\n",
    "\n",
    "mh_diagnosis_df['MH1'].replace({'Depressive Disorders': 'Missing'}, inplace=True)"
   ]
  },
  {
   "cell_type": "code",
   "execution_count": 66,
   "metadata": {},
   "outputs": [
    {
     "data": {
      "text/plain": [
       "MH1                     0\n",
       "SMISED                  0\n",
       "SAP                     0\n",
       "CASEID                  0\n",
       "Diagnosed Depression    0\n",
       "dtype: int64"
      ]
     },
     "execution_count": 66,
     "metadata": {},
     "output_type": "execute_result"
    }
   ],
   "source": [
    "# Check if nan values were removed\n",
    "\n",
    "mh_diagnosis_df.isna().sum()"
   ]
  },
  {
   "cell_type": "code",
   "execution_count": 67,
   "metadata": {},
   "outputs": [],
   "source": [
    "# Rename the dataset to indicate it has been cleaned\n",
    "\n",
    "diagnosis_clean = mh_diagnosis_df.copy()"
   ]
  },
  {
   "cell_type": "code",
   "execution_count": 68,
   "metadata": {},
   "outputs": [
    {
     "data": {
      "text/plain": [
       "MH1                     0\n",
       "SMISED                  0\n",
       "SAP                     0\n",
       "CASEID                  0\n",
       "Diagnosed Depression    0\n",
       "dtype: int64"
      ]
     },
     "execution_count": 68,
     "metadata": {},
     "output_type": "execute_result"
    }
   ],
   "source": [
    "diagnosis_clean.isna().sum()"
   ]
  },
  {
   "cell_type": "code",
   "execution_count": 69,
   "metadata": {},
   "outputs": [
    {
     "data": {
      "text/plain": [
       "(118419, 5)"
      ]
     },
     "execution_count": 69,
     "metadata": {},
     "output_type": "execute_result"
    }
   ],
   "source": [
    "diagnosis_clean.shape"
   ]
  },
  {
   "cell_type": "code",
   "execution_count": 71,
   "metadata": {},
   "outputs": [],
   "source": [
    "# Convert values to int\n",
    "diagnosis_clean['SAP'] = diagnosis_clean['SAP'].astype('int64')\n",
    "diagnosis_clean['Diagnosed Depression'] = diagnosis_clean['Diagnosed Depression'].astype('int64')"
   ]
  },
  {
   "cell_type": "code",
   "execution_count": 72,
   "metadata": {},
   "outputs": [
    {
     "name": "stdout",
     "output_type": "stream",
     "text": [
      "<class 'pandas.core.frame.DataFrame'>\n",
      "Int64Index: 118419 entries, 0 to 118418\n",
      "Data columns (total 5 columns):\n",
      " #   Column                Non-Null Count   Dtype  \n",
      "---  ------                --------------   -----  \n",
      " 0   MH1                   118419 non-null  object \n",
      " 1   SMISED                118419 non-null  object \n",
      " 2   SAP                   118419 non-null  int64  \n",
      " 3   CASEID                118419 non-null  float64\n",
      " 4   Diagnosed Depression  118419 non-null  int64  \n",
      "dtypes: float64(1), int64(2), object(2)\n",
      "memory usage: 5.4+ MB\n"
     ]
    }
   ],
   "source": [
    "# Check changes\n",
    "diagnosis_clean.info()"
   ]
  },
  {
   "cell_type": "code",
   "execution_count": 73,
   "metadata": {},
   "outputs": [],
   "source": [
    "# Remove the CASEID column\n",
    "diagnosis_clean.drop(columns=['CASEID'], inplace=True)"
   ]
  },
  {
   "cell_type": "code",
   "execution_count": 74,
   "metadata": {},
   "outputs": [
    {
     "data": {
      "text/plain": [
       "Index(['MH1', 'SMISED', 'SAP', 'Diagnosed Depression'], dtype='object')"
      ]
     },
     "execution_count": 74,
     "metadata": {},
     "output_type": "execute_result"
    }
   ],
   "source": [
    "diagnosis_clean.columns"
   ]
  },
  {
   "cell_type": "markdown",
   "metadata": {},
   "source": [
    "# Clean data of reported accounts of mental illness diagnosis \n",
    "- Each column is binary valued to illustrate whether or not a given client has been diagnosed with a particular disorder\n",
    "- The reasons and symptomalogy behind the diagnosis is not provided in the official codebook"
   ]
  },
  {
   "cell_type": "code",
   "execution_count": 75,
   "metadata": {},
   "outputs": [
    {
     "data": {
      "text/html": [
       "<div>\n",
       "<style scoped>\n",
       "    .dataframe tbody tr th:only-of-type {\n",
       "        vertical-align: middle;\n",
       "    }\n",
       "\n",
       "    .dataframe tbody tr th {\n",
       "        vertical-align: top;\n",
       "    }\n",
       "\n",
       "    .dataframe thead th {\n",
       "        text-align: right;\n",
       "    }\n",
       "</style>\n",
       "<table border=\"1\" class=\"dataframe\">\n",
       "  <thead>\n",
       "    <tr style=\"text-align: right;\">\n",
       "      <th></th>\n",
       "      <th>ANXIETYFLG</th>\n",
       "      <th>ADHDFLG</th>\n",
       "      <th>BIPOLARFLG</th>\n",
       "      <th>SCHIZOFLG</th>\n",
       "      <th>TRAUSTREFLG</th>\n",
       "      <th>CONDUCTFLG</th>\n",
       "      <th>DELIRDEMFLG</th>\n",
       "      <th>ODDFLG</th>\n",
       "      <th>PDDFLG</th>\n",
       "      <th>PERSONFLG</th>\n",
       "      <th>ALCSUBFLG</th>\n",
       "      <th>Diagnosed Depression</th>\n",
       "      <th>CASEID</th>\n",
       "    </tr>\n",
       "  </thead>\n",
       "  <tbody>\n",
       "    <tr>\n",
       "      <th>0</th>\n",
       "      <td>0.0</td>\n",
       "      <td>0.0</td>\n",
       "      <td>0.0</td>\n",
       "      <td>0.0</td>\n",
       "      <td>0.0</td>\n",
       "      <td>0.0</td>\n",
       "      <td>0.0</td>\n",
       "      <td>0.0</td>\n",
       "      <td>0.0</td>\n",
       "      <td>0.0</td>\n",
       "      <td>0.0</td>\n",
       "      <td>0.0</td>\n",
       "      <td>2.019000e+10</td>\n",
       "    </tr>\n",
       "    <tr>\n",
       "      <th>1</th>\n",
       "      <td>0.0</td>\n",
       "      <td>0.0</td>\n",
       "      <td>0.0</td>\n",
       "      <td>0.0</td>\n",
       "      <td>0.0</td>\n",
       "      <td>0.0</td>\n",
       "      <td>0.0</td>\n",
       "      <td>0.0</td>\n",
       "      <td>0.0</td>\n",
       "      <td>0.0</td>\n",
       "      <td>0.0</td>\n",
       "      <td>1.0</td>\n",
       "      <td>2.019000e+10</td>\n",
       "    </tr>\n",
       "    <tr>\n",
       "      <th>2</th>\n",
       "      <td>0.0</td>\n",
       "      <td>0.0</td>\n",
       "      <td>0.0</td>\n",
       "      <td>1.0</td>\n",
       "      <td>0.0</td>\n",
       "      <td>0.0</td>\n",
       "      <td>0.0</td>\n",
       "      <td>0.0</td>\n",
       "      <td>0.0</td>\n",
       "      <td>0.0</td>\n",
       "      <td>0.0</td>\n",
       "      <td>0.0</td>\n",
       "      <td>2.019000e+10</td>\n",
       "    </tr>\n",
       "    <tr>\n",
       "      <th>3</th>\n",
       "      <td>0.0</td>\n",
       "      <td>0.0</td>\n",
       "      <td>0.0</td>\n",
       "      <td>1.0</td>\n",
       "      <td>0.0</td>\n",
       "      <td>0.0</td>\n",
       "      <td>0.0</td>\n",
       "      <td>0.0</td>\n",
       "      <td>0.0</td>\n",
       "      <td>0.0</td>\n",
       "      <td>0.0</td>\n",
       "      <td>0.0</td>\n",
       "      <td>2.019000e+10</td>\n",
       "    </tr>\n",
       "    <tr>\n",
       "      <th>4</th>\n",
       "      <td>0.0</td>\n",
       "      <td>0.0</td>\n",
       "      <td>0.0</td>\n",
       "      <td>0.0</td>\n",
       "      <td>1.0</td>\n",
       "      <td>0.0</td>\n",
       "      <td>0.0</td>\n",
       "      <td>0.0</td>\n",
       "      <td>0.0</td>\n",
       "      <td>0.0</td>\n",
       "      <td>0.0</td>\n",
       "      <td>0.0</td>\n",
       "      <td>2.019000e+10</td>\n",
       "    </tr>\n",
       "  </tbody>\n",
       "</table>\n",
       "</div>"
      ],
      "text/plain": [
       "   ANXIETYFLG  ADHDFLG  BIPOLARFLG  SCHIZOFLG  TRAUSTREFLG  CONDUCTFLG  \\\n",
       "0         0.0      0.0         0.0        0.0          0.0         0.0   \n",
       "1         0.0      0.0         0.0        0.0          0.0         0.0   \n",
       "2         0.0      0.0         0.0        1.0          0.0         0.0   \n",
       "3         0.0      0.0         0.0        1.0          0.0         0.0   \n",
       "4         0.0      0.0         0.0        0.0          1.0         0.0   \n",
       "\n",
       "   DELIRDEMFLG  ODDFLG  PDDFLG  PERSONFLG  ALCSUBFLG  Diagnosed Depression  \\\n",
       "0          0.0     0.0     0.0        0.0        0.0                   0.0   \n",
       "1          0.0     0.0     0.0        0.0        0.0                   1.0   \n",
       "2          0.0     0.0     0.0        0.0        0.0                   0.0   \n",
       "3          0.0     0.0     0.0        0.0        0.0                   0.0   \n",
       "4          0.0     0.0     0.0        0.0        0.0                   0.0   \n",
       "\n",
       "         CASEID  \n",
       "0  2.019000e+10  \n",
       "1  2.019000e+10  \n",
       "2  2.019000e+10  \n",
       "3  2.019000e+10  \n",
       "4  2.019000e+10  "
      ]
     },
     "execution_count": 75,
     "metadata": {},
     "output_type": "execute_result"
    }
   ],
   "source": [
    "reported_subset_df.head()"
   ]
  },
  {
   "cell_type": "code",
   "execution_count": 76,
   "metadata": {},
   "outputs": [
    {
     "name": "stderr",
     "output_type": "stream",
     "text": [
      "/opt/anaconda3/lib/python3.7/site-packages/pandas/core/frame.py:4913: SettingWithCopyWarning: \n",
      "A value is trying to be set on a copy of a slice from a DataFrame\n",
      "\n",
      "See the caveats in the documentation: https://pandas.pydata.org/pandas-docs/stable/user_guide/indexing.html#returning-a-view-versus-a-copy\n",
      "  errors=errors,\n"
     ]
    }
   ],
   "source": [
    "# Drop the target column \n",
    "\n",
    "reported_subset_df.drop(columns='Diagnosed Depression', inplace=True)"
   ]
  },
  {
   "cell_type": "code",
   "execution_count": 77,
   "metadata": {},
   "outputs": [
    {
     "name": "stderr",
     "output_type": "stream",
     "text": [
      "/opt/anaconda3/lib/python3.7/site-packages/pandas/core/frame.py:5047: SettingWithCopyWarning: \n",
      "A value is trying to be set on a copy of a slice from a DataFrame\n",
      "\n",
      "See the caveats in the documentation: https://pandas.pydata.org/pandas-docs/stable/user_guide/indexing.html#returning-a-view-versus-a-copy\n",
      "  errors=errors,\n"
     ]
    }
   ],
   "source": [
    "# Rename columns to add more clarity \n",
    "\n",
    "reported_subset_df.rename(columns={'ANXIETYFLG': 'Anxiety disorder', 'SCHIZOFLG': 'Schizophrenia',\n",
    "                          'TRAUSTREFLG': 'Trauma Disorders', 'CONDUCTFLG': 'Conduct Disorders', 'DELIRDEMFLG': 'Delirium/Dementia',\n",
    "                          'ODDFLG': 'Oppositional Defiant Disorder', 'PDDFLG': 'Pervasive Development Disorder', 'PERSONFLG': 'Personality Disorder', \n",
    "                          'ALCSUBFLG': 'Alcohol/Substance Use Disorder'}, inplace=True)"
   ]
  },
  {
   "cell_type": "code",
   "execution_count": 78,
   "metadata": {},
   "outputs": [
    {
     "data": {
      "text/plain": [
       "Anxiety disorder                  0\n",
       "ADHDFLG                           0\n",
       "BIPOLARFLG                        0\n",
       "Schizophrenia                     0\n",
       "Trauma Disorders                  0\n",
       "Conduct Disorders                 0\n",
       "Delirium/Dementia                 0\n",
       "Oppositional Defiant Disorder     0\n",
       "Pervasive Development Disorder    0\n",
       "Personality Disorder              0\n",
       "Alcohol/Substance Use Disorder    0\n",
       "CASEID                            0\n",
       "dtype: int64"
      ]
     },
     "execution_count": 78,
     "metadata": {},
     "output_type": "execute_result"
    }
   ],
   "source": [
    "# Check for missing values\n",
    "\n",
    "reported_subset_df.isna().sum()"
   ]
  },
  {
   "cell_type": "code",
   "execution_count": 79,
   "metadata": {},
   "outputs": [],
   "source": [
    "# Rename the dataframe to show it has been cleaned\n",
    "\n",
    "disorders_clean = reported_subset_df.copy()"
   ]
  },
  {
   "cell_type": "code",
   "execution_count": 80,
   "metadata": {},
   "outputs": [
    {
     "name": "stdout",
     "output_type": "stream",
     "text": [
      "Anxiety disorder value counts \n",
      "\n"
     ]
    },
    {
     "data": {
      "text/plain": [
       "0.0    110020\n",
       "1.0     15916\n",
       "Name: Anxiety disorder, dtype: int64"
      ]
     },
     "metadata": {},
     "output_type": "display_data"
    },
    {
     "name": "stdout",
     "output_type": "stream",
     "text": [
      "-------------------------------------------\n",
      "ADHDFLG value counts \n",
      "\n"
     ]
    },
    {
     "data": {
      "text/plain": [
       "0.0    112940\n",
       "1.0     12996\n",
       "Name: ADHDFLG, dtype: int64"
      ]
     },
     "metadata": {},
     "output_type": "display_data"
    },
    {
     "name": "stdout",
     "output_type": "stream",
     "text": [
      "-------------------------------------------\n",
      "BIPOLARFLG value counts \n",
      "\n"
     ]
    },
    {
     "data": {
      "text/plain": [
       "0.0    114895\n",
       "1.0     11041\n",
       "Name: BIPOLARFLG, dtype: int64"
      ]
     },
     "metadata": {},
     "output_type": "display_data"
    },
    {
     "name": "stdout",
     "output_type": "stream",
     "text": [
      "-------------------------------------------\n",
      "Schizophrenia value counts \n",
      "\n"
     ]
    },
    {
     "data": {
      "text/plain": [
       "0.0    110442\n",
       "1.0     15494\n",
       "Name: Schizophrenia, dtype: int64"
      ]
     },
     "metadata": {},
     "output_type": "display_data"
    },
    {
     "name": "stdout",
     "output_type": "stream",
     "text": [
      "-------------------------------------------\n",
      "Trauma Disorders value counts \n",
      "\n"
     ]
    },
    {
     "data": {
      "text/plain": [
       "0.0    113951\n",
       "1.0     11985\n",
       "Name: Trauma Disorders, dtype: int64"
      ]
     },
     "metadata": {},
     "output_type": "display_data"
    },
    {
     "name": "stdout",
     "output_type": "stream",
     "text": [
      "-------------------------------------------\n",
      "Conduct Disorders value counts \n",
      "\n"
     ]
    },
    {
     "data": {
      "text/plain": [
       "0.0    124425\n",
       "1.0      1511\n",
       "Name: Conduct Disorders, dtype: int64"
      ]
     },
     "metadata": {},
     "output_type": "display_data"
    },
    {
     "name": "stdout",
     "output_type": "stream",
     "text": [
      "-------------------------------------------\n",
      "Delirium/Dementia value counts \n",
      "\n"
     ]
    },
    {
     "data": {
      "text/plain": [
       "0.0    125372\n",
       "1.0       564\n",
       "Name: Delirium/Dementia, dtype: int64"
      ]
     },
     "metadata": {},
     "output_type": "display_data"
    },
    {
     "name": "stdout",
     "output_type": "stream",
     "text": [
      "-------------------------------------------\n",
      "Oppositional Defiant Disorder value counts \n",
      "\n"
     ]
    },
    {
     "data": {
      "text/plain": [
       "0.0    122506\n",
       "1.0      3430\n",
       "Name: Oppositional Defiant Disorder, dtype: int64"
      ]
     },
     "metadata": {},
     "output_type": "display_data"
    },
    {
     "name": "stdout",
     "output_type": "stream",
     "text": [
      "-------------------------------------------\n",
      "Pervasive Development Disorder value counts \n",
      "\n"
     ]
    },
    {
     "data": {
      "text/plain": [
       "0.0    124596\n",
       "1.0      1340\n",
       "Name: Pervasive Development Disorder, dtype: int64"
      ]
     },
     "metadata": {},
     "output_type": "display_data"
    },
    {
     "name": "stdout",
     "output_type": "stream",
     "text": [
      "-------------------------------------------\n",
      "Personality Disorder value counts \n",
      "\n"
     ]
    },
    {
     "data": {
      "text/plain": [
       "0.0    123678\n",
       "1.0      2258\n",
       "Name: Personality Disorder, dtype: int64"
      ]
     },
     "metadata": {},
     "output_type": "display_data"
    },
    {
     "name": "stdout",
     "output_type": "stream",
     "text": [
      "-------------------------------------------\n",
      "Alcohol/Substance Use Disorder value counts \n",
      "\n"
     ]
    },
    {
     "data": {
      "text/plain": [
       "0.0    125502\n",
       "1.0       434\n",
       "Name: Alcohol/Substance Use Disorder, dtype: int64"
      ]
     },
     "metadata": {},
     "output_type": "display_data"
    },
    {
     "name": "stdout",
     "output_type": "stream",
     "text": [
      "-------------------------------------------\n",
      "CASEID value counts \n",
      "\n"
     ]
    },
    {
     "data": {
      "text/plain": [
       "2.019000e+10    1\n",
       "2.019008e+10    1\n",
       "2.019008e+10    1\n",
       "2.019008e+10    1\n",
       "2.019008e+10    1\n",
       "               ..\n",
       "2.019004e+10    1\n",
       "2.019004e+10    1\n",
       "2.019004e+10    1\n",
       "2.019004e+10    1\n",
       "2.019020e+10    1\n",
       "Name: CASEID, Length: 125936, dtype: int64"
      ]
     },
     "metadata": {},
     "output_type": "display_data"
    },
    {
     "name": "stdout",
     "output_type": "stream",
     "text": [
      "-------------------------------------------\n"
     ]
    }
   ],
   "source": [
    "# Look at value counts\n",
    "\n",
    "for col in disorders_clean.columns:\n",
    "    print(f'{col} value counts', '\\n')\n",
    "    display(disorders_clean[col].value_counts(dropna=False))\n",
    "    print('-------------------------------------------')"
   ]
  },
  {
   "cell_type": "code",
   "execution_count": 81,
   "metadata": {},
   "outputs": [],
   "source": [
    "# Remove the CASEID column\n",
    "disorders_clean.drop(columns=['CASEID'], inplace=True)"
   ]
  },
  {
   "cell_type": "code",
   "execution_count": 82,
   "metadata": {},
   "outputs": [
    {
     "data": {
      "text/plain": [
       "Index(['Anxiety disorder', 'ADHDFLG', 'BIPOLARFLG', 'Schizophrenia',\n",
       "       'Trauma Disorders', 'Conduct Disorders', 'Delirium/Dementia',\n",
       "       'Oppositional Defiant Disorder', 'Pervasive Development Disorder',\n",
       "       'Personality Disorder', 'Alcohol/Substance Use Disorder'],\n",
       "      dtype='object')"
      ]
     },
     "execution_count": 82,
     "metadata": {},
     "output_type": "execute_result"
    }
   ],
   "source": [
    "disorders_clean.columns"
   ]
  },
  {
   "cell_type": "markdown",
   "metadata": {},
   "source": [
    "- The majority of client responses indicate that a very small portion of the population (100,000 rows) was diagnosed with a mental \n",
    "illness in the year 2019"
   ]
  },
  {
   "cell_type": "markdown",
   "metadata": {},
   "source": [
    "# Clean column in-patient/out-patient setting data\n",
    "- These fields identify where a given client received mental health services from\n",
    "- Examples of Treatment facilities include: State psychiatric services, Residential treatment centers, Jail services, Private provides, etc.."
   ]
  },
  {
   "cell_type": "code",
   "execution_count": 83,
   "metadata": {},
   "outputs": [
    {
     "name": "stdout",
     "output_type": "stream",
     "text": [
      "(200000, 5)\n"
     ]
    },
    {
     "data": {
      "text/html": [
       "<div>\n",
       "<style scoped>\n",
       "    .dataframe tbody tr th:only-of-type {\n",
       "        vertical-align: middle;\n",
       "    }\n",
       "\n",
       "    .dataframe tbody tr th {\n",
       "        vertical-align: top;\n",
       "    }\n",
       "\n",
       "    .dataframe thead th {\n",
       "        text-align: right;\n",
       "    }\n",
       "</style>\n",
       "<table border=\"1\" class=\"dataframe\">\n",
       "  <thead>\n",
       "    <tr style=\"text-align: right;\">\n",
       "      <th></th>\n",
       "      <th>SPHSERVICE</th>\n",
       "      <th>CMPSERVICE</th>\n",
       "      <th>OPISERVICE</th>\n",
       "      <th>RTCSERVICE</th>\n",
       "      <th>IJSSERVICE</th>\n",
       "    </tr>\n",
       "  </thead>\n",
       "  <tbody>\n",
       "    <tr>\n",
       "      <th>0</th>\n",
       "      <td>0.0</td>\n",
       "      <td>1.0</td>\n",
       "      <td>0.0</td>\n",
       "      <td>0.0</td>\n",
       "      <td>0.0</td>\n",
       "    </tr>\n",
       "    <tr>\n",
       "      <th>1</th>\n",
       "      <td>1.0</td>\n",
       "      <td>0.0</td>\n",
       "      <td>0.0</td>\n",
       "      <td>0.0</td>\n",
       "      <td>0.0</td>\n",
       "    </tr>\n",
       "    <tr>\n",
       "      <th>2</th>\n",
       "      <td>1.0</td>\n",
       "      <td>1.0</td>\n",
       "      <td>0.0</td>\n",
       "      <td>0.0</td>\n",
       "      <td>0.0</td>\n",
       "    </tr>\n",
       "    <tr>\n",
       "      <th>3</th>\n",
       "      <td>1.0</td>\n",
       "      <td>1.0</td>\n",
       "      <td>1.0</td>\n",
       "      <td>0.0</td>\n",
       "      <td>0.0</td>\n",
       "    </tr>\n",
       "    <tr>\n",
       "      <th>4</th>\n",
       "      <td>1.0</td>\n",
       "      <td>1.0</td>\n",
       "      <td>0.0</td>\n",
       "      <td>0.0</td>\n",
       "      <td>0.0</td>\n",
       "    </tr>\n",
       "  </tbody>\n",
       "</table>\n",
       "</div>"
      ],
      "text/plain": [
       "   SPHSERVICE  CMPSERVICE  OPISERVICE  RTCSERVICE  IJSSERVICE\n",
       "0         0.0         1.0         0.0         0.0         0.0\n",
       "1         1.0         0.0         0.0         0.0         0.0\n",
       "2         1.0         1.0         0.0         0.0         0.0\n",
       "3         1.0         1.0         1.0         0.0         0.0\n",
       "4         1.0         1.0         0.0         0.0         0.0"
      ]
     },
     "execution_count": 83,
     "metadata": {},
     "output_type": "execute_result"
    }
   ],
   "source": [
    "print(service_subset_df.shape)\n",
    "service_subset_df.head()"
   ]
  },
  {
   "cell_type": "code",
   "execution_count": 84,
   "metadata": {},
   "outputs": [],
   "source": [
    "# Renaming columns\n",
    "service_subset_df.rename(columns={'SPHSERVICE': 'State psychiatric hospital', \n",
    "                         'CMPSERVICE': 'Community Mental Health Center', 'OPISERVICE': 'Other psychiatric inpatient',\n",
    "                        'RTCSERVICE': 'Residential Treatment Center', 'IJSSERVICE': 'justice system services'},\n",
    "                        inplace=True)"
   ]
  },
  {
   "cell_type": "code",
   "execution_count": 85,
   "metadata": {},
   "outputs": [
    {
     "data": {
      "text/plain": [
       "State psychiatric hospital        74064\n",
       "Community Mental Health Center    74064\n",
       "Other psychiatric inpatient       74064\n",
       "Residential Treatment Center      74064\n",
       "justice system services           74064\n",
       "dtype: int64"
      ]
     },
     "execution_count": 85,
     "metadata": {},
     "output_type": "execute_result"
    }
   ],
   "source": [
    "service_subset_df.isna().sum()"
   ]
  },
  {
   "cell_type": "code",
   "execution_count": 88,
   "metadata": {},
   "outputs": [
    {
     "data": {
      "text/plain": [
       "State psychiatric hospital        0\n",
       "Community Mental Health Center    0\n",
       "Other psychiatric inpatient       0\n",
       "Residential Treatment Center      0\n",
       "justice system services           0\n",
       "dtype: int64"
      ]
     },
     "execution_count": 88,
     "metadata": {},
     "output_type": "execute_result"
    }
   ],
   "source": [
    "# Remove na values\n",
    "service_subset_df = service_subset_df.dropna()\n",
    "service_subset_df.isna().sum()"
   ]
  },
  {
   "cell_type": "code",
   "execution_count": 89,
   "metadata": {},
   "outputs": [],
   "source": [
    "# Rename dataframe to show it has been cleaned\n",
    "\n",
    "services_clean = service_subset_df.copy()"
   ]
  },
  {
   "cell_type": "code",
   "execution_count": 90,
   "metadata": {},
   "outputs": [
    {
     "name": "stdout",
     "output_type": "stream",
     "text": [
      "State psychiatric hospital value counts \n",
      "\n"
     ]
    },
    {
     "data": {
      "text/plain": [
       "0.0    125050\n",
       "1.0       886\n",
       "Name: State psychiatric hospital, dtype: int64"
      ]
     },
     "metadata": {},
     "output_type": "display_data"
    },
    {
     "name": "stdout",
     "output_type": "stream",
     "text": [
      "-------------------------------------------\n",
      "Community Mental Health Center value counts \n",
      "\n"
     ]
    },
    {
     "data": {
      "text/plain": [
       "1.0    125223\n",
       "0.0       713\n",
       "Name: Community Mental Health Center, dtype: int64"
      ]
     },
     "metadata": {},
     "output_type": "display_data"
    },
    {
     "name": "stdout",
     "output_type": "stream",
     "text": [
      "-------------------------------------------\n",
      "Other psychiatric inpatient value counts \n",
      "\n"
     ]
    },
    {
     "data": {
      "text/plain": [
       "0.0    124265\n",
       "1.0      1671\n",
       "Name: Other psychiatric inpatient, dtype: int64"
      ]
     },
     "metadata": {},
     "output_type": "display_data"
    },
    {
     "name": "stdout",
     "output_type": "stream",
     "text": [
      "-------------------------------------------\n",
      "Residential Treatment Center value counts \n",
      "\n"
     ]
    },
    {
     "data": {
      "text/plain": [
       "0.0    125245\n",
       "1.0       691\n",
       "Name: Residential Treatment Center, dtype: int64"
      ]
     },
     "metadata": {},
     "output_type": "display_data"
    },
    {
     "name": "stdout",
     "output_type": "stream",
     "text": [
      "-------------------------------------------\n",
      "justice system services value counts \n",
      "\n"
     ]
    },
    {
     "data": {
      "text/plain": [
       "0.0    125781\n",
       "1.0       155\n",
       "Name: justice system services, dtype: int64"
      ]
     },
     "metadata": {},
     "output_type": "display_data"
    },
    {
     "name": "stdout",
     "output_type": "stream",
     "text": [
      "-------------------------------------------\n"
     ]
    }
   ],
   "source": [
    "# Look at value counts\n",
    "\n",
    "for col in services_clean.columns:\n",
    "    print(f'{col} value counts', '\\n')\n",
    "    display(services_clean[col].value_counts(dropna=False))\n",
    "    print('-------------------------------------------')"
   ]
  },
  {
   "cell_type": "code",
   "execution_count": 91,
   "metadata": {},
   "outputs": [
    {
     "data": {
      "text/plain": [
       "(125936, 5)"
      ]
     },
     "execution_count": 91,
     "metadata": {},
     "output_type": "execute_result"
    }
   ],
   "source": [
    "services_clean.shape"
   ]
  },
  {
   "cell_type": "markdown",
   "metadata": {},
   "source": [
    "# Aggregate clean subset-dataframes to one table"
   ]
  },
  {
   "cell_type": "code",
   "execution_count": 92,
   "metadata": {},
   "outputs": [
    {
     "data": {
      "text/html": [
       "<div>\n",
       "<style scoped>\n",
       "    .dataframe tbody tr th:only-of-type {\n",
       "        vertical-align: middle;\n",
       "    }\n",
       "\n",
       "    .dataframe tbody tr th {\n",
       "        vertical-align: top;\n",
       "    }\n",
       "\n",
       "    .dataframe thead th {\n",
       "        text-align: right;\n",
       "    }\n",
       "</style>\n",
       "<table border=\"1\" class=\"dataframe\">\n",
       "  <thead>\n",
       "    <tr style=\"text-align: right;\">\n",
       "      <th></th>\n",
       "      <th>AGE</th>\n",
       "      <th>Education</th>\n",
       "      <th>ETHNIC</th>\n",
       "      <th>RACE</th>\n",
       "      <th>GENDER</th>\n",
       "      <th>Marital Status</th>\n",
       "      <th>EMPLOY</th>\n",
       "      <th>VETERAN</th>\n",
       "      <th>Not in Labor Force</th>\n",
       "      <th>Residential Status</th>\n",
       "      <th>...</th>\n",
       "      <th>Delirium/Dementia</th>\n",
       "      <th>Oppositional Defiant Disorder</th>\n",
       "      <th>Pervasive Development Disorder</th>\n",
       "      <th>Personality Disorder</th>\n",
       "      <th>Alcohol/Substance Use Disorder</th>\n",
       "      <th>State psychiatric hospital</th>\n",
       "      <th>Community Mental Health Center</th>\n",
       "      <th>Other psychiatric inpatient</th>\n",
       "      <th>Residential Treatment Center</th>\n",
       "      <th>justice system services</th>\n",
       "    </tr>\n",
       "  </thead>\n",
       "  <tbody>\n",
       "    <tr>\n",
       "      <th>0</th>\n",
       "      <td>3.0</td>\n",
       "      <td>3.0</td>\n",
       "      <td>Not Hispanic</td>\n",
       "      <td>White</td>\n",
       "      <td>0.0</td>\n",
       "      <td>Never married</td>\n",
       "      <td>Not in labor force</td>\n",
       "      <td>0.0</td>\n",
       "      <td>Student</td>\n",
       "      <td>Private Residence</td>\n",
       "      <td>...</td>\n",
       "      <td>0.0</td>\n",
       "      <td>0.0</td>\n",
       "      <td>0.0</td>\n",
       "      <td>0.0</td>\n",
       "      <td>0.0</td>\n",
       "      <td>0.0</td>\n",
       "      <td>1.0</td>\n",
       "      <td>0.0</td>\n",
       "      <td>0.0</td>\n",
       "      <td>0.0</td>\n",
       "    </tr>\n",
       "    <tr>\n",
       "      <th>1</th>\n",
       "      <td>10.0</td>\n",
       "      <td>3.0</td>\n",
       "      <td>Not Hispanic</td>\n",
       "      <td>White</td>\n",
       "      <td>1.0</td>\n",
       "      <td>Divorced</td>\n",
       "      <td>Not in labor force</td>\n",
       "      <td>0.0</td>\n",
       "      <td>Retired, disabled</td>\n",
       "      <td>Private Residence</td>\n",
       "      <td>...</td>\n",
       "      <td>0.0</td>\n",
       "      <td>0.0</td>\n",
       "      <td>0.0</td>\n",
       "      <td>0.0</td>\n",
       "      <td>0.0</td>\n",
       "      <td>1.0</td>\n",
       "      <td>0.0</td>\n",
       "      <td>0.0</td>\n",
       "      <td>0.0</td>\n",
       "      <td>0.0</td>\n",
       "    </tr>\n",
       "    <tr>\n",
       "      <th>2</th>\n",
       "      <td>11.0</td>\n",
       "      <td>2.0</td>\n",
       "      <td>Not Hispanic</td>\n",
       "      <td>White</td>\n",
       "      <td>1.0</td>\n",
       "      <td>Divorced</td>\n",
       "      <td>Not in labor force</td>\n",
       "      <td>0.0</td>\n",
       "      <td>Retired, disabled</td>\n",
       "      <td>Private Residence</td>\n",
       "      <td>...</td>\n",
       "      <td>0.0</td>\n",
       "      <td>0.0</td>\n",
       "      <td>0.0</td>\n",
       "      <td>0.0</td>\n",
       "      <td>0.0</td>\n",
       "      <td>1.0</td>\n",
       "      <td>1.0</td>\n",
       "      <td>0.0</td>\n",
       "      <td>0.0</td>\n",
       "      <td>0.0</td>\n",
       "    </tr>\n",
       "    <tr>\n",
       "      <th>3</th>\n",
       "      <td>11.0</td>\n",
       "      <td>3.0</td>\n",
       "      <td>Not Hispanic</td>\n",
       "      <td>White</td>\n",
       "      <td>0.0</td>\n",
       "      <td>Now married</td>\n",
       "      <td>Not in labor force</td>\n",
       "      <td>0.0</td>\n",
       "      <td>Retired, disabled</td>\n",
       "      <td>Private Residence</td>\n",
       "      <td>...</td>\n",
       "      <td>0.0</td>\n",
       "      <td>0.0</td>\n",
       "      <td>0.0</td>\n",
       "      <td>0.0</td>\n",
       "      <td>0.0</td>\n",
       "      <td>1.0</td>\n",
       "      <td>1.0</td>\n",
       "      <td>1.0</td>\n",
       "      <td>0.0</td>\n",
       "      <td>0.0</td>\n",
       "    </tr>\n",
       "    <tr>\n",
       "      <th>4</th>\n",
       "      <td>9.0</td>\n",
       "      <td>4.0</td>\n",
       "      <td>Not Hispanic</td>\n",
       "      <td>Black or African American</td>\n",
       "      <td>1.0</td>\n",
       "      <td>Divorced</td>\n",
       "      <td>Not in labor force</td>\n",
       "      <td>0.0</td>\n",
       "      <td>Retired, disabled</td>\n",
       "      <td>Private Residence</td>\n",
       "      <td>...</td>\n",
       "      <td>0.0</td>\n",
       "      <td>0.0</td>\n",
       "      <td>0.0</td>\n",
       "      <td>0.0</td>\n",
       "      <td>0.0</td>\n",
       "      <td>1.0</td>\n",
       "      <td>1.0</td>\n",
       "      <td>0.0</td>\n",
       "      <td>0.0</td>\n",
       "      <td>0.0</td>\n",
       "    </tr>\n",
       "  </tbody>\n",
       "</table>\n",
       "<p>5 rows × 30 columns</p>\n",
       "</div>"
      ],
      "text/plain": [
       "    AGE  Education        ETHNIC                       RACE  GENDER  \\\n",
       "0   3.0        3.0  Not Hispanic                      White     0.0   \n",
       "1  10.0        3.0  Not Hispanic                      White     1.0   \n",
       "2  11.0        2.0  Not Hispanic                      White     1.0   \n",
       "3  11.0        3.0  Not Hispanic                      White     0.0   \n",
       "4   9.0        4.0  Not Hispanic  Black or African American     1.0   \n",
       "\n",
       "  Marital Status              EMPLOY  VETERAN Not in Labor Force  \\\n",
       "0  Never married  Not in labor force      0.0            Student   \n",
       "1       Divorced  Not in labor force      0.0  Retired, disabled   \n",
       "2       Divorced  Not in labor force      0.0  Retired, disabled   \n",
       "3    Now married  Not in labor force      0.0  Retired, disabled   \n",
       "4       Divorced  Not in labor force      0.0  Retired, disabled   \n",
       "\n",
       "  Residential Status  ... Delirium/Dementia Oppositional Defiant Disorder  \\\n",
       "0  Private Residence  ...               0.0                           0.0   \n",
       "1  Private Residence  ...               0.0                           0.0   \n",
       "2  Private Residence  ...               0.0                           0.0   \n",
       "3  Private Residence  ...               0.0                           0.0   \n",
       "4  Private Residence  ...               0.0                           0.0   \n",
       "\n",
       "   Pervasive Development Disorder  Personality Disorder  \\\n",
       "0                             0.0                   0.0   \n",
       "1                             0.0                   0.0   \n",
       "2                             0.0                   0.0   \n",
       "3                             0.0                   0.0   \n",
       "4                             0.0                   0.0   \n",
       "\n",
       "   Alcohol/Substance Use Disorder  State psychiatric hospital  \\\n",
       "0                             0.0                         0.0   \n",
       "1                             0.0                         1.0   \n",
       "2                             0.0                         1.0   \n",
       "3                             0.0                         1.0   \n",
       "4                             0.0                         1.0   \n",
       "\n",
       "   Community Mental Health Center  Other psychiatric inpatient  \\\n",
       "0                             1.0                          0.0   \n",
       "1                             0.0                          0.0   \n",
       "2                             1.0                          0.0   \n",
       "3                             1.0                          1.0   \n",
       "4                             1.0                          0.0   \n",
       "\n",
       "   Residential Treatment Center  justice system services  \n",
       "0                           0.0                      0.0  \n",
       "1                           0.0                      0.0  \n",
       "2                           0.0                      0.0  \n",
       "3                           0.0                      0.0  \n",
       "4                           0.0                      0.0  \n",
       "\n",
       "[5 rows x 30 columns]"
      ]
     },
     "execution_count": 92,
     "metadata": {},
     "output_type": "execute_result"
    }
   ],
   "source": [
    "clean_df = pd.concat([demo_clean, diagnosis_clean, disorders_clean, services_clean], axis=1)\n",
    "\n",
    "clean_df.head()"
   ]
  },
  {
   "cell_type": "code",
   "execution_count": 94,
   "metadata": {},
   "outputs": [
    {
     "data": {
      "text/plain": [
       "(139253, 30)"
      ]
     },
     "execution_count": 94,
     "metadata": {},
     "output_type": "execute_result"
    }
   ],
   "source": [
    "clean_df.shape"
   ]
  },
  {
   "cell_type": "code",
   "execution_count": 95,
   "metadata": {},
   "outputs": [
    {
     "data": {
      "text/plain": [
       "1.0    64301\n",
       "0.0    54118\n",
       "Name: Diagnosed Depression, dtype: int64"
      ]
     },
     "execution_count": 95,
     "metadata": {},
     "output_type": "execute_result"
    }
   ],
   "source": [
    "clean_df['Diagnosed Depression'].value_counts()"
   ]
  },
  {
   "cell_type": "code",
   "execution_count": 96,
   "metadata": {},
   "outputs": [
    {
     "data": {
      "text/plain": [
       "AGE                               111294\n",
       "Education                         111294\n",
       "ETHNIC                            111294\n",
       "RACE                              111294\n",
       "GENDER                            111294\n",
       "Marital Status                    111294\n",
       "EMPLOY                            111294\n",
       "VETERAN                           111294\n",
       "Not in Labor Force                111294\n",
       "Residential Status                111294\n",
       "MH1                                20834\n",
       "SMISED                             20834\n",
       "SAP                                20834\n",
       "Diagnosed Depression               20834\n",
       "Anxiety disorder                   13317\n",
       "ADHDFLG                            13317\n",
       "BIPOLARFLG                         13317\n",
       "Schizophrenia                      13317\n",
       "Trauma Disorders                   13317\n",
       "Conduct Disorders                  13317\n",
       "Delirium/Dementia                  13317\n",
       "Oppositional Defiant Disorder      13317\n",
       "Pervasive Development Disorder     13317\n",
       "Personality Disorder               13317\n",
       "Alcohol/Substance Use Disorder     13317\n",
       "State psychiatric hospital         13317\n",
       "Community Mental Health Center     13317\n",
       "Other psychiatric inpatient        13317\n",
       "Residential Treatment Center       13317\n",
       "justice system services            13317\n",
       "dtype: int64"
      ]
     },
     "execution_count": 96,
     "metadata": {},
     "output_type": "execute_result"
    }
   ],
   "source": [
    "clean_df.isna().sum()"
   ]
  },
  {
   "cell_type": "code",
   "execution_count": 97,
   "metadata": {},
   "outputs": [],
   "source": [
    "# Renaming columns\n",
    "\n",
    "clean_df.rename(columns={'ETHNIC': 'Ethnicity', 'EMPLOY': 'Employment Status'}, inplace=True)"
   ]
  },
  {
   "cell_type": "code",
   "execution_count": 98,
   "metadata": {},
   "outputs": [],
   "source": [
    "# To avoid issues with inconsistent data types, we replace 0 (na) values in categorical columns with 'Missing'\n",
    "\n",
    "fillna_cols = ['Ethnicity', 'RACE', 'Marital Status', 'Employment Status', 'Not in Labor Force', 'Residential Status']\n",
    "for col in fillna_cols:\n",
    "    clean_df[col] = clean_df[col].replace(np.nan, 'Missing')"
   ]
  },
  {
   "cell_type": "code",
   "execution_count": 99,
   "metadata": {},
   "outputs": [
    {
     "data": {
      "text/plain": [
       "array(['Not Hispanic', 'Puerto Rican', 'Other Hispanic', 'Mexican',\n",
       "       'Missing'], dtype=object)"
      ]
     },
     "execution_count": 99,
     "metadata": {},
     "output_type": "execute_result"
    }
   ],
   "source": [
    "clean_df['Ethnicity'].unique()"
   ]
  },
  {
   "cell_type": "code",
   "execution_count": 100,
   "metadata": {},
   "outputs": [
    {
     "name": "stdout",
     "output_type": "stream",
     "text": [
      "AGE value counts \n",
      "\n"
     ]
    },
    {
     "data": {
      "text/plain": [
       "NaN     111294\n",
       "14.0      2908\n",
       "3.0       2602\n",
       "12.0      2563\n",
       "11.0      2558\n",
       "10.0      2429\n",
       "8.0       2396\n",
       "9.0       2291\n",
       "4.0       2283\n",
       "7.0       2247\n",
       "13.0      2164\n",
       "6.0       2108\n",
       "5.0       1410\n",
       "Name: AGE, dtype: int64"
      ]
     },
     "metadata": {},
     "output_type": "display_data"
    },
    {
     "name": "stdout",
     "output_type": "stream",
     "text": [
      "-------------------------------------------\n",
      "Education value counts \n",
      "\n"
     ]
    },
    {
     "data": {
      "text/plain": [
       "NaN    111294\n",
       "4.0     12728\n",
       "3.0      7556\n",
       "2.0      3935\n",
       "5.0      3423\n",
       "1.0       317\n",
       "Name: Education, dtype: int64"
      ]
     },
     "metadata": {},
     "output_type": "display_data"
    },
    {
     "name": "stdout",
     "output_type": "stream",
     "text": [
      "-------------------------------------------\n",
      "Ethnicity value counts \n",
      "\n"
     ]
    },
    {
     "data": {
      "text/plain": [
       "Missing           111294\n",
       "Not Hispanic       27269\n",
       "Other Hispanic       359\n",
       "Mexican              226\n",
       "Puerto Rican         105\n",
       "Name: Ethnicity, dtype: int64"
      ]
     },
     "metadata": {},
     "output_type": "display_data"
    },
    {
     "name": "stdout",
     "output_type": "stream",
     "text": [
      "-------------------------------------------\n",
      "RACE value counts \n",
      "\n"
     ]
    },
    {
     "data": {
      "text/plain": [
       "Missing                                      111294\n",
       "White                                         16062\n",
       "Black or African American                      9800\n",
       "Two or more races                              1717\n",
       "American Indian                                 298\n",
       "Asian                                            65\n",
       "Native Hawaiian or Other Pacific Islander        17\n",
       "Name: RACE, dtype: int64"
      ]
     },
     "metadata": {},
     "output_type": "display_data"
    },
    {
     "name": "stdout",
     "output_type": "stream",
     "text": [
      "-------------------------------------------\n",
      "GENDER value counts \n",
      "\n"
     ]
    },
    {
     "data": {
      "text/plain": [
       "NaN    111294\n",
       "0.0     16700\n",
       "1.0     11259\n",
       "Name: GENDER, dtype: int64"
      ]
     },
     "metadata": {},
     "output_type": "display_data"
    },
    {
     "name": "stdout",
     "output_type": "stream",
     "text": [
      "-------------------------------------------\n",
      "Marital Status value counts \n",
      "\n"
     ]
    },
    {
     "data": {
      "text/plain": [
       "Missing          111294\n",
       "Never married     14826\n",
       "Divorced           6473\n",
       "Now married        4611\n",
       "Separated          2049\n",
       "Name: Marital Status, dtype: int64"
      ]
     },
     "metadata": {},
     "output_type": "display_data"
    },
    {
     "name": "stdout",
     "output_type": "stream",
     "text": [
      "-------------------------------------------\n",
      "Employment Status value counts \n",
      "\n"
     ]
    },
    {
     "data": {
      "text/plain": [
       "Missing               111294\n",
       "Not in labor force     27959\n",
       "Name: Employment Status, dtype: int64"
      ]
     },
     "metadata": {},
     "output_type": "display_data"
    },
    {
     "name": "stdout",
     "output_type": "stream",
     "text": [
      "-------------------------------------------\n",
      "VETERAN value counts \n",
      "\n"
     ]
    },
    {
     "data": {
      "text/plain": [
       "NaN    111294\n",
       "0.0     27449\n",
       "1.0       510\n",
       "Name: VETERAN, dtype: int64"
      ]
     },
     "metadata": {},
     "output_type": "display_data"
    },
    {
     "name": "stdout",
     "output_type": "stream",
     "text": [
      "-------------------------------------------\n",
      "Not in Labor Force value counts \n",
      "\n"
     ]
    },
    {
     "data": {
      "text/plain": [
       "Missing                                 111294\n",
       "Retired, disabled                        13691\n",
       "Other                                     8689\n",
       "Student                                   4775\n",
       "Homemaker                                  795\n",
       "Sheltered/non-competitive employment         9\n",
       "Name: Not in Labor Force, dtype: int64"
      ]
     },
     "metadata": {},
     "output_type": "display_data"
    },
    {
     "name": "stdout",
     "output_type": "stream",
     "text": [
      "-------------------------------------------\n",
      "Residential Status value counts \n",
      "\n"
     ]
    },
    {
     "data": {
      "text/plain": [
       "Missing              111294\n",
       "Private Residence     25042\n",
       "Other                  2354\n",
       "Homeless                563\n",
       "Name: Residential Status, dtype: int64"
      ]
     },
     "metadata": {},
     "output_type": "display_data"
    },
    {
     "name": "stdout",
     "output_type": "stream",
     "text": [
      "-------------------------------------------\n",
      "MH1 value counts \n",
      "\n"
     ]
    },
    {
     "data": {
      "text/plain": [
       "Missing                                 60559\n",
       "NaN                                     20834\n",
       "Schizophrenia or other psychosis        14016\n",
       "ADHD                                    10112\n",
       "Bipolar disorders                        9433\n",
       "Other disorders                          8758\n",
       "Trauma Disorder                          6529\n",
       "Anxiety disorders                        5207\n",
       "Oppositional Defiant Disorders           1517\n",
       "Conduct disorders                         927\n",
       "Pervasive Developmental Disorders         526\n",
       "Personality disorders                     334\n",
       "Delirium, Dementia                        261\n",
       "Alcohol or substance abuse disorders      240\n",
       "Name: MH1, dtype: int64"
      ]
     },
     "metadata": {},
     "output_type": "display_data"
    },
    {
     "name": "stdout",
     "output_type": "stream",
     "text": [
      "-------------------------------------------\n",
      "SMISED value counts \n",
      "\n"
     ]
    },
    {
     "data": {
      "text/plain": [
       "Serious Mental Illness        66150\n",
       "Serious Emotional Disorder    34856\n",
       "NaN                           20834\n",
       "Not serious                   17413\n",
       "Name: SMISED, dtype: int64"
      ]
     },
     "metadata": {},
     "output_type": "display_data"
    },
    {
     "name": "stdout",
     "output_type": "stream",
     "text": [
      "-------------------------------------------\n",
      "SAP value counts \n",
      "\n"
     ]
    },
    {
     "data": {
      "text/plain": [
       "0.0    104641\n",
       "NaN     20834\n",
       "1.0     13778\n",
       "Name: SAP, dtype: int64"
      ]
     },
     "metadata": {},
     "output_type": "display_data"
    },
    {
     "name": "stdout",
     "output_type": "stream",
     "text": [
      "-------------------------------------------\n",
      "Diagnosed Depression value counts \n",
      "\n"
     ]
    },
    {
     "data": {
      "text/plain": [
       "1.0    64301\n",
       "0.0    54118\n",
       "NaN    20834\n",
       "Name: Diagnosed Depression, dtype: int64"
      ]
     },
     "metadata": {},
     "output_type": "display_data"
    },
    {
     "name": "stdout",
     "output_type": "stream",
     "text": [
      "-------------------------------------------\n",
      "Anxiety disorder value counts \n",
      "\n"
     ]
    },
    {
     "data": {
      "text/plain": [
       "0.0    110020\n",
       "1.0     15916\n",
       "NaN     13317\n",
       "Name: Anxiety disorder, dtype: int64"
      ]
     },
     "metadata": {},
     "output_type": "display_data"
    },
    {
     "name": "stdout",
     "output_type": "stream",
     "text": [
      "-------------------------------------------\n",
      "ADHDFLG value counts \n",
      "\n"
     ]
    },
    {
     "data": {
      "text/plain": [
       "0.0    112940\n",
       "NaN     13317\n",
       "1.0     12996\n",
       "Name: ADHDFLG, dtype: int64"
      ]
     },
     "metadata": {},
     "output_type": "display_data"
    },
    {
     "name": "stdout",
     "output_type": "stream",
     "text": [
      "-------------------------------------------\n",
      "BIPOLARFLG value counts \n",
      "\n"
     ]
    },
    {
     "data": {
      "text/plain": [
       "0.0    114895\n",
       "NaN     13317\n",
       "1.0     11041\n",
       "Name: BIPOLARFLG, dtype: int64"
      ]
     },
     "metadata": {},
     "output_type": "display_data"
    },
    {
     "name": "stdout",
     "output_type": "stream",
     "text": [
      "-------------------------------------------\n",
      "Schizophrenia value counts \n",
      "\n"
     ]
    },
    {
     "data": {
      "text/plain": [
       "0.0    110442\n",
       "1.0     15494\n",
       "NaN     13317\n",
       "Name: Schizophrenia, dtype: int64"
      ]
     },
     "metadata": {},
     "output_type": "display_data"
    },
    {
     "name": "stdout",
     "output_type": "stream",
     "text": [
      "-------------------------------------------\n",
      "Trauma Disorders value counts \n",
      "\n"
     ]
    },
    {
     "data": {
      "text/plain": [
       "0.0    113951\n",
       "NaN     13317\n",
       "1.0     11985\n",
       "Name: Trauma Disorders, dtype: int64"
      ]
     },
     "metadata": {},
     "output_type": "display_data"
    },
    {
     "name": "stdout",
     "output_type": "stream",
     "text": [
      "-------------------------------------------\n",
      "Conduct Disorders value counts \n",
      "\n"
     ]
    },
    {
     "data": {
      "text/plain": [
       "0.0    124425\n",
       "NaN     13317\n",
       "1.0      1511\n",
       "Name: Conduct Disorders, dtype: int64"
      ]
     },
     "metadata": {},
     "output_type": "display_data"
    },
    {
     "name": "stdout",
     "output_type": "stream",
     "text": [
      "-------------------------------------------\n",
      "Delirium/Dementia value counts \n",
      "\n"
     ]
    },
    {
     "data": {
      "text/plain": [
       "0.0    125372\n",
       "NaN     13317\n",
       "1.0       564\n",
       "Name: Delirium/Dementia, dtype: int64"
      ]
     },
     "metadata": {},
     "output_type": "display_data"
    },
    {
     "name": "stdout",
     "output_type": "stream",
     "text": [
      "-------------------------------------------\n",
      "Oppositional Defiant Disorder value counts \n",
      "\n"
     ]
    },
    {
     "data": {
      "text/plain": [
       "0.0    122506\n",
       "NaN     13317\n",
       "1.0      3430\n",
       "Name: Oppositional Defiant Disorder, dtype: int64"
      ]
     },
     "metadata": {},
     "output_type": "display_data"
    },
    {
     "name": "stdout",
     "output_type": "stream",
     "text": [
      "-------------------------------------------\n",
      "Pervasive Development Disorder value counts \n",
      "\n"
     ]
    },
    {
     "data": {
      "text/plain": [
       "0.0    124596\n",
       "NaN     13317\n",
       "1.0      1340\n",
       "Name: Pervasive Development Disorder, dtype: int64"
      ]
     },
     "metadata": {},
     "output_type": "display_data"
    },
    {
     "name": "stdout",
     "output_type": "stream",
     "text": [
      "-------------------------------------------\n",
      "Personality Disorder value counts \n",
      "\n"
     ]
    },
    {
     "data": {
      "text/plain": [
       "0.0    123678\n",
       "NaN     13317\n",
       "1.0      2258\n",
       "Name: Personality Disorder, dtype: int64"
      ]
     },
     "metadata": {},
     "output_type": "display_data"
    },
    {
     "name": "stdout",
     "output_type": "stream",
     "text": [
      "-------------------------------------------\n",
      "Alcohol/Substance Use Disorder value counts \n",
      "\n"
     ]
    },
    {
     "data": {
      "text/plain": [
       "0.0    125502\n",
       "NaN     13317\n",
       "1.0       434\n",
       "Name: Alcohol/Substance Use Disorder, dtype: int64"
      ]
     },
     "metadata": {},
     "output_type": "display_data"
    },
    {
     "name": "stdout",
     "output_type": "stream",
     "text": [
      "-------------------------------------------\n",
      "State psychiatric hospital value counts \n",
      "\n"
     ]
    },
    {
     "data": {
      "text/plain": [
       "0.0    125050\n",
       "NaN     13317\n",
       "1.0       886\n",
       "Name: State psychiatric hospital, dtype: int64"
      ]
     },
     "metadata": {},
     "output_type": "display_data"
    },
    {
     "name": "stdout",
     "output_type": "stream",
     "text": [
      "-------------------------------------------\n",
      "Community Mental Health Center value counts \n",
      "\n"
     ]
    },
    {
     "data": {
      "text/plain": [
       "1.0    125223\n",
       "NaN     13317\n",
       "0.0       713\n",
       "Name: Community Mental Health Center, dtype: int64"
      ]
     },
     "metadata": {},
     "output_type": "display_data"
    },
    {
     "name": "stdout",
     "output_type": "stream",
     "text": [
      "-------------------------------------------\n",
      "Other psychiatric inpatient value counts \n",
      "\n"
     ]
    },
    {
     "data": {
      "text/plain": [
       "0.0    124265\n",
       "NaN     13317\n",
       "1.0      1671\n",
       "Name: Other psychiatric inpatient, dtype: int64"
      ]
     },
     "metadata": {},
     "output_type": "display_data"
    },
    {
     "name": "stdout",
     "output_type": "stream",
     "text": [
      "-------------------------------------------\n",
      "Residential Treatment Center value counts \n",
      "\n"
     ]
    },
    {
     "data": {
      "text/plain": [
       "0.0    125245\n",
       "NaN     13317\n",
       "1.0       691\n",
       "Name: Residential Treatment Center, dtype: int64"
      ]
     },
     "metadata": {},
     "output_type": "display_data"
    },
    {
     "name": "stdout",
     "output_type": "stream",
     "text": [
      "-------------------------------------------\n",
      "justice system services value counts \n",
      "\n"
     ]
    },
    {
     "data": {
      "text/plain": [
       "0.0    125781\n",
       "NaN     13317\n",
       "1.0       155\n",
       "Name: justice system services, dtype: int64"
      ]
     },
     "metadata": {},
     "output_type": "display_data"
    },
    {
     "name": "stdout",
     "output_type": "stream",
     "text": [
      "-------------------------------------------\n"
     ]
    }
   ],
   "source": [
    "for col in clean_df.columns:\n",
    "    print(f'{col} value counts', '\\n')\n",
    "    display(clean_df[col].value_counts(dropna=False))\n",
    "    print('-------------------------------------------')"
   ]
  },
  {
   "cell_type": "code",
   "execution_count": 101,
   "metadata": {},
   "outputs": [
    {
     "data": {
      "text/plain": [
       "(27959, 30)"
      ]
     },
     "execution_count": 101,
     "metadata": {},
     "output_type": "execute_result"
    }
   ],
   "source": [
    "clean_df1 = clean_df.dropna()\n",
    "clean_df1.shape"
   ]
  },
  {
   "cell_type": "code",
   "execution_count": 103,
   "metadata": {},
   "outputs": [
    {
     "data": {
      "text/plain": [
       "0.0    16172\n",
       "1.0    11787\n",
       "Name: Diagnosed Depression, dtype: int64"
      ]
     },
     "execution_count": 103,
     "metadata": {},
     "output_type": "execute_result"
    }
   ],
   "source": [
    "clean_df1['Diagnosed Depression'].value_counts()"
   ]
  },
  {
   "cell_type": "code",
   "execution_count": 104,
   "metadata": {},
   "outputs": [
    {
     "data": {
      "text/plain": [
       "(27959, 30)"
      ]
     },
     "execution_count": 104,
     "metadata": {},
     "output_type": "execute_result"
    }
   ],
   "source": [
    "clean_df1.shape"
   ]
  },
  {
   "cell_type": "code",
   "execution_count": 106,
   "metadata": {},
   "outputs": [
    {
     "name": "stdout",
     "output_type": "stream",
     "text": [
      "Total number of training samples: 27959\n"
     ]
    }
   ],
   "source": [
    "# Total number of training samples\n",
    "train_total = clean_df1.shape[0]\n",
    "print('Total number of training samples: {}'.format(train_total))"
   ]
  },
  {
   "cell_type": "code",
   "execution_count": 127,
   "metadata": {},
   "outputs": [],
   "source": [
    "# Save to csv file to load in separate notebook for modeling\n",
    "clean_df1.to_csv('CLEAN_MHCLD.csv')"
   ]
  },
  {
   "cell_type": "code",
   "execution_count": null,
   "metadata": {},
   "outputs": [],
   "source": []
  }
 ],
 "metadata": {
  "kernelspec": {
   "display_name": "Python 3 (ipykernel)",
   "language": "python",
   "name": "python3"
  },
  "language_info": {
   "codemirror_mode": {
    "name": "ipython",
    "version": 3
   },
   "file_extension": ".py",
   "mimetype": "text/x-python",
   "name": "python",
   "nbconvert_exporter": "python",
   "pygments_lexer": "ipython3",
   "version": "3.7.4"
  }
 },
 "nbformat": 4,
 "nbformat_minor": 2
}
